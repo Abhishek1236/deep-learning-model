{
  "nbformat": 4,
  "nbformat_minor": 0,
  "metadata": {
    "colab": {
      "name": "Lenet_practice.ipynb",
      "provenance": [],
      "authorship_tag": "ABX9TyOs/Kc8Bq5A64GbhFtoziCv",
      "include_colab_link": true
    },
    "kernelspec": {
      "name": "python3",
      "display_name": "Python 3"
    }
  },
  "cells": [
    {
      "cell_type": "markdown",
      "metadata": {
        "id": "view-in-github",
        "colab_type": "text"
      },
      "source": [
        "<a href=\"https://colab.research.google.com/github/Abhishek1236/deep-learning-model/blob/master/Lenet_practice.ipynb\" target=\"_parent\"><img src=\"https://colab.research.google.com/assets/colab-badge.svg\" alt=\"Open In Colab\"/></a>"
      ]
    },
    {
      "cell_type": "code",
      "metadata": {
        "id": "uIJFCVHw0dC5"
      },
      "source": [
        "import numpy as np \r\n",
        "import keras\r\n",
        "from keras.datasets import fashion_mnist\r\n",
        "from keras.layers import Conv2D, MaxPooling2D\r\n",
        "from keras.layers import Dense, Flatten\r\n",
        "from keras.models import Sequential\r\n",
        "from keras.models import load_model "
      ],
      "execution_count": 34,
      "outputs": []
    },
    {
      "cell_type": "code",
      "metadata": {
        "id": "9_iZkEsu11TC"
      },
      "source": [
        "class load_data:\r\n",
        "  def training():\r\n",
        "    (x_train,y_train),(x_test,y_test) = fashion_mnist.load_data()\r\n",
        "    x_train = x_train.reshape(x_train.shape[0], x_train.shape[1], x_train.shape[2], 1).astype('float32')\r\n",
        "    x_train = x_train/255\r\n",
        "    y_train = keras.utils.to_categorical(y_train,num_classes=10)\r\n",
        "    return x_train,y_train\r\n",
        "  def test():\r\n",
        "    (x_train,y_train),(x_test,y_test) = fashion_mnist.load_data()\r\n",
        "    x_test = x_test.reshape(x_test.shape[0], x_test.shape[1], x_test.shape[2], 1).astype('float32')\r\n",
        "    x_test = x_test/255\r\n",
        "    y_test = keras.utils.to_categorical(y_test,num_classes=10)\r\n",
        "    return x_test,y_test\r\n",
        "\r\n",
        "x_train,y_train = load_data.training()\r\n",
        "x_test,y_test = load_data.test()"
      ],
      "execution_count": 18,
      "outputs": []
    },
    {
      "cell_type": "code",
      "metadata": {
        "colab": {
          "base_uri": "https://localhost:8080/"
        },
        "id": "5YUfotGf5HIT",
        "outputId": "4414de77-4941-4fcb-92ec-b10cbab885d4"
      },
      "source": [
        "class CNN:\r\n",
        "  def forward():\r\n",
        "    model = Sequential()\r\n",
        "    model.add(Conv2D(6,kernel_size=(5,5),activation= 'relu',input_shape = (28,28,1)))\r\n",
        "    model.add(MaxPooling2D(pool_size=(2,2)))\r\n",
        "    model.add(Conv2D(16,kernel_size=(5,5),activation = 'relu'))\r\n",
        "    model.add(MaxPooling2D(pool_size=(2,2)))\r\n",
        "    model.add(Flatten())\r\n",
        "    model.add(Dense(120,activation='relu'))\r\n",
        "    model.add(Dense(84,activation='relu'))\r\n",
        "    model.add(Dense(10,activation='softmax'))\r\n",
        "    return model\r\n",
        "  def model_training(model,x_train,x_test,y_train,y_test,epochs,batch_size):\r\n",
        "    model.compile(loss=keras.metrics.categorical_crossentropy, optimizer=keras.optimizers.Adam(), metrics=['accuracy'])\r\n",
        "    model.fit(x_train, y_train, batch_size=batch_size, epochs=epochs, verbose=1, validation_data=(x_test, y_test))\r\n",
        "    score = model.evaluate(x_test, y_test)\r\n",
        "    return score\r\n",
        "model = CNN.forward()\r\n",
        "score = CNN.model_training(model,x_train,x_test,y_train,y_test,epochs=20,batch_size=128)\r\n",
        "print('Test Loss:', score[0])\r\n",
        "print('Test accuracy:', score[1])"
      ],
      "execution_count": 24,
      "outputs": [
        {
          "output_type": "stream",
          "text": [
            "WARNING:tensorflow:From /usr/local/lib/python3.6/dist-packages/keras/backend/tensorflow_backend.py:422: The name tf.global_variables is deprecated. Please use tf.compat.v1.global_variables instead.\n",
            "\n",
            "Train on 60000 samples, validate on 10000 samples\n",
            "Epoch 1/20\n",
            "60000/60000 [==============================] - 27s 448us/step - loss: 0.7158 - accuracy: 0.7371 - val_loss: 0.5247 - val_accuracy: 0.8047\n",
            "Epoch 2/20\n",
            "60000/60000 [==============================] - 26s 439us/step - loss: 0.4479 - accuracy: 0.8347 - val_loss: 0.4253 - val_accuracy: 0.8460\n",
            "Epoch 3/20\n",
            "60000/60000 [==============================] - 26s 438us/step - loss: 0.3839 - accuracy: 0.8596 - val_loss: 0.3747 - val_accuracy: 0.8639\n",
            "Epoch 4/20\n",
            "60000/60000 [==============================] - 26s 439us/step - loss: 0.3484 - accuracy: 0.8727 - val_loss: 0.3681 - val_accuracy: 0.8683\n",
            "Epoch 5/20\n",
            "60000/60000 [==============================] - 26s 437us/step - loss: 0.3239 - accuracy: 0.8818 - val_loss: 0.3494 - val_accuracy: 0.8724\n",
            "Epoch 6/20\n",
            "60000/60000 [==============================] - 26s 438us/step - loss: 0.3101 - accuracy: 0.8870 - val_loss: 0.3339 - val_accuracy: 0.8788\n",
            "Epoch 7/20\n",
            "60000/60000 [==============================] - 26s 440us/step - loss: 0.2957 - accuracy: 0.8911 - val_loss: 0.3307 - val_accuracy: 0.8799\n",
            "Epoch 8/20\n",
            "60000/60000 [==============================] - 26s 441us/step - loss: 0.2801 - accuracy: 0.8974 - val_loss: 0.3137 - val_accuracy: 0.8834\n",
            "Epoch 9/20\n",
            "60000/60000 [==============================] - 26s 440us/step - loss: 0.2704 - accuracy: 0.9008 - val_loss: 0.3038 - val_accuracy: 0.8892\n",
            "Epoch 10/20\n",
            "60000/60000 [==============================] - 26s 436us/step - loss: 0.2613 - accuracy: 0.9038 - val_loss: 0.3081 - val_accuracy: 0.8858\n",
            "Epoch 11/20\n",
            "60000/60000 [==============================] - 26s 435us/step - loss: 0.2517 - accuracy: 0.9074 - val_loss: 0.3055 - val_accuracy: 0.8912\n",
            "Epoch 12/20\n",
            "60000/60000 [==============================] - 26s 439us/step - loss: 0.2475 - accuracy: 0.9088 - val_loss: 0.2996 - val_accuracy: 0.8905\n",
            "Epoch 13/20\n",
            "60000/60000 [==============================] - 26s 435us/step - loss: 0.2351 - accuracy: 0.9111 - val_loss: 0.3120 - val_accuracy: 0.8900\n",
            "Epoch 14/20\n",
            "60000/60000 [==============================] - 26s 436us/step - loss: 0.2280 - accuracy: 0.9157 - val_loss: 0.2827 - val_accuracy: 0.8969\n",
            "Epoch 15/20\n",
            "60000/60000 [==============================] - 26s 435us/step - loss: 0.2225 - accuracy: 0.9176 - val_loss: 0.3036 - val_accuracy: 0.8888\n",
            "Epoch 16/20\n",
            "60000/60000 [==============================] - 26s 434us/step - loss: 0.2151 - accuracy: 0.9211 - val_loss: 0.2781 - val_accuracy: 0.8962\n",
            "Epoch 17/20\n",
            "60000/60000 [==============================] - 26s 436us/step - loss: 0.2103 - accuracy: 0.9212 - val_loss: 0.2852 - val_accuracy: 0.8973\n",
            "Epoch 18/20\n",
            "60000/60000 [==============================] - 26s 439us/step - loss: 0.2034 - accuracy: 0.9241 - val_loss: 0.2832 - val_accuracy: 0.8982\n",
            "Epoch 19/20\n",
            "60000/60000 [==============================] - 26s 440us/step - loss: 0.1965 - accuracy: 0.9260 - val_loss: 0.3014 - val_accuracy: 0.8923\n",
            "Epoch 20/20\n",
            "60000/60000 [==============================] - 26s 436us/step - loss: 0.1914 - accuracy: 0.9283 - val_loss: 0.2816 - val_accuracy: 0.8989\n",
            "10000/10000 [==============================] - 3s 272us/step\n",
            "Test Loss: 0.2816385225057602\n",
            "Test accuracy: 0.8988999724388123\n"
          ],
          "name": "stdout"
        }
      ]
    },
    {
      "cell_type": "code",
      "metadata": {
        "id": "GavgsDKMOHK0"
      },
      "source": [
        "class_names = {0:'T-shirt/top', 1:'Trouser', 2:'Pullover', 3:'Dress', 4:'Coat',\r\n",
        "               5:'Sandal', 6:'Shirt', 7:'Sneaker', 8:'Bag', 9:'Ankle boot'}"
      ],
      "execution_count": 44,
      "outputs": []
    },
    {
      "cell_type": "code",
      "metadata": {
        "colab": {
          "base_uri": "https://localhost:8080/",
          "height": 317
        },
        "id": "WTe3_jvDPs6M",
        "outputId": "727c5c58-e3fa-455c-8691-3a18d1eb191d"
      },
      "source": [
        "#testing for an image \r\n",
        "from keras.preprocessing.image import array_to_img\r\n",
        "from PIL import Image  \r\n",
        "data = x_test[2]\r\n",
        "b=array_to_img(data)\r\n",
        "newsize = (300, 300) \r\n",
        "b = b.resize(newsize)\r\n",
        "b"
      ],
      "execution_count": 53,
      "outputs": [
        {
          "output_type": "execute_result",
          "data": {
            "image/png": "[encoded data removed]",
            "text/plain": [
              "<PIL.Image.Image image mode=L size=300x300 at 0x7F12717F1748>"
            ]
          },
          "metadata": {
            "tags": []
          },
          "execution_count": 53
        }
      ]
    },
    {
      "cell_type": "code",
      "metadata": {
        "colab": {
          "base_uri": "https://localhost:8080/"
        },
        "id": "8yegLCmfB4NO",
        "outputId": "c5f25b78-b451-4b52-da13-e6f85cf8ff17"
      },
      "source": [
        "\r\n",
        "#prediction\r\n",
        "model = load_model('/content/lenet.h5')\r\n",
        "image  = np.expand_dims(data, axis=0)\r\n",
        "y_pred = np.argmax(model.predict(image))\r\n",
        "y_actual = np.argmax(y_test[2])\r\n",
        "print('predicted label for this image is : ',class_names[y_pred])\r\n",
        "print('actual label for this image is : ',class_names[y_actual])"
      ],
      "execution_count": 54,
      "outputs": [
        {
          "output_type": "stream",
          "text": [
            "predicted label for this image is :  Trouser\n",
            "actual label for this image is :  Trouser\n"
          ],
          "name": "stdout"
        }
      ]
    }
  ]
}