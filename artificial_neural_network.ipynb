{
  "nbformat": 4,
  "nbformat_minor": 0,
  "metadata": {
    "colab": {
      "name": "artificial neural network.ipynb",
      "provenance": [],
      "collapsed_sections": [],
      "authorship_tag": "ABX9TyO1a4yZxW7f1gW+42shdoW+",
      "include_colab_link": true
    },
    "kernelspec": {
      "name": "python3",
      "display_name": "Python 3"
    }
  },
  "cells": [
    {
      "cell_type": "markdown",
      "metadata": {
        "id": "view-in-github",
        "colab_type": "text"
      },
      "source": [
        "<a href=\"https://colab.research.google.com/github/Abhishek1236/deep-learning-model/blob/master/artificial_neural_network.ipynb\" target=\"_parent\"><img src=\"https://colab.research.google.com/assets/colab-badge.svg\" alt=\"Open In Colab\"/></a>"
      ]
    },
    {
      "cell_type": "code",
      "metadata": {
        "id": "lIHq1vT8mH2C",
        "colab_type": "code",
        "colab": {}
      },
      "source": [
        "import pandas as pd \n",
        "import numpy as np \n"
      ],
      "execution_count": 0,
      "outputs": []
    },
    {
      "cell_type": "code",
      "metadata": {
        "id": "tJvlImDCmcrN",
        "colab_type": "code",
        "colab": {}
      },
      "source": [
        "data = pd.read_csv('Churn_Modelling.csv')"
      ],
      "execution_count": 0,
      "outputs": []
    },
    {
      "cell_type": "code",
      "metadata": {
        "id": "QsQlQ02fmibv",
        "colab_type": "code",
        "colab": {
          "base_uri": "https://localhost:8080/",
          "height": 206
        },
        "outputId": "8667b20c-68ac-4087-f6b4-7d9eeee3ba8e"
      },
      "source": [
        "data.head()"
      ],
      "execution_count": 79,
      "outputs": [
        {
          "output_type": "execute_result",
          "data": {
            "text/html": [
              "<div>\n",
              "<style scoped>\n",
              "    .dataframe tbody tr th:only-of-type {\n",
              "        vertical-align: middle;\n",
              "    }\n",
              "\n",
              "    .dataframe tbody tr th {\n",
              "        vertical-align: top;\n",
              "    }\n",
              "\n",
              "    .dataframe thead th {\n",
              "        text-align: right;\n",
              "    }\n",
              "</style>\n",
              "<table border=\"1\" class=\"dataframe\">\n",
              "  <thead>\n",
              "    <tr style=\"text-align: right;\">\n",
              "      <th></th>\n",
              "      <th>RowNumber</th>\n",
              "      <th>CustomerId</th>\n",
              "      <th>Surname</th>\n",
              "      <th>CreditScore</th>\n",
              "      <th>Geography</th>\n",
              "      <th>Gender</th>\n",
              "      <th>Age</th>\n",
              "      <th>Tenure</th>\n",
              "      <th>Balance</th>\n",
              "      <th>NumOfProducts</th>\n",
              "      <th>HasCrCard</th>\n",
              "      <th>IsActiveMember</th>\n",
              "      <th>EstimatedSalary</th>\n",
              "      <th>Exited</th>\n",
              "    </tr>\n",
              "  </thead>\n",
              "  <tbody>\n",
              "    <tr>\n",
              "      <th>0</th>\n",
              "      <td>1</td>\n",
              "      <td>15634602</td>\n",
              "      <td>Hargrave</td>\n",
              "      <td>619</td>\n",
              "      <td>France</td>\n",
              "      <td>Female</td>\n",
              "      <td>42</td>\n",
              "      <td>2</td>\n",
              "      <td>0.00</td>\n",
              "      <td>1</td>\n",
              "      <td>1</td>\n",
              "      <td>1</td>\n",
              "      <td>101348.88</td>\n",
              "      <td>1</td>\n",
              "    </tr>\n",
              "    <tr>\n",
              "      <th>1</th>\n",
              "      <td>2</td>\n",
              "      <td>15647311</td>\n",
              "      <td>Hill</td>\n",
              "      <td>608</td>\n",
              "      <td>Spain</td>\n",
              "      <td>Female</td>\n",
              "      <td>41</td>\n",
              "      <td>1</td>\n",
              "      <td>83807.86</td>\n",
              "      <td>1</td>\n",
              "      <td>0</td>\n",
              "      <td>1</td>\n",
              "      <td>112542.58</td>\n",
              "      <td>0</td>\n",
              "    </tr>\n",
              "    <tr>\n",
              "      <th>2</th>\n",
              "      <td>3</td>\n",
              "      <td>15619304</td>\n",
              "      <td>Onio</td>\n",
              "      <td>502</td>\n",
              "      <td>France</td>\n",
              "      <td>Female</td>\n",
              "      <td>42</td>\n",
              "      <td>8</td>\n",
              "      <td>159660.80</td>\n",
              "      <td>3</td>\n",
              "      <td>1</td>\n",
              "      <td>0</td>\n",
              "      <td>113931.57</td>\n",
              "      <td>1</td>\n",
              "    </tr>\n",
              "    <tr>\n",
              "      <th>3</th>\n",
              "      <td>4</td>\n",
              "      <td>15701354</td>\n",
              "      <td>Boni</td>\n",
              "      <td>699</td>\n",
              "      <td>France</td>\n",
              "      <td>Female</td>\n",
              "      <td>39</td>\n",
              "      <td>1</td>\n",
              "      <td>0.00</td>\n",
              "      <td>2</td>\n",
              "      <td>0</td>\n",
              "      <td>0</td>\n",
              "      <td>93826.63</td>\n",
              "      <td>0</td>\n",
              "    </tr>\n",
              "    <tr>\n",
              "      <th>4</th>\n",
              "      <td>5</td>\n",
              "      <td>15737888</td>\n",
              "      <td>Mitchell</td>\n",
              "      <td>850</td>\n",
              "      <td>Spain</td>\n",
              "      <td>Female</td>\n",
              "      <td>43</td>\n",
              "      <td>2</td>\n",
              "      <td>125510.82</td>\n",
              "      <td>1</td>\n",
              "      <td>1</td>\n",
              "      <td>1</td>\n",
              "      <td>79084.10</td>\n",
              "      <td>0</td>\n",
              "    </tr>\n",
              "  </tbody>\n",
              "</table>\n",
              "</div>"
            ],
            "text/plain": [
              "   RowNumber  CustomerId   Surname  ...  IsActiveMember EstimatedSalary Exited\n",
              "0          1    15634602  Hargrave  ...               1       101348.88      1\n",
              "1          2    15647311      Hill  ...               1       112542.58      0\n",
              "2          3    15619304      Onio  ...               0       113931.57      1\n",
              "3          4    15701354      Boni  ...               0        93826.63      0\n",
              "4          5    15737888  Mitchell  ...               1        79084.10      0\n",
              "\n",
              "[5 rows x 14 columns]"
            ]
          },
          "metadata": {
            "tags": []
          },
          "execution_count": 79
        }
      ]
    },
    {
      "cell_type": "code",
      "metadata": {
        "id": "DgSamxEumkHN",
        "colab_type": "code",
        "colab": {}
      },
      "source": [
        "#data preprocessing \n",
        "x = data.iloc[:,3:13].values\n",
        "y = data.iloc[:,13].values"
      ],
      "execution_count": 0,
      "outputs": []
    },
    {
      "cell_type": "code",
      "metadata": {
        "id": "mmfpBpuZueuE",
        "colab_type": "code",
        "colab": {
          "base_uri": "https://localhost:8080/",
          "height": 35
        },
        "outputId": "777b928b-1dff-4eba-b2a5-49440ce9ebc8"
      },
      "source": [
        "x.shape"
      ],
      "execution_count": 81,
      "outputs": [
        {
          "output_type": "execute_result",
          "data": {
            "text/plain": [
              "(10000, 10)"
            ]
          },
          "metadata": {
            "tags": []
          },
          "execution_count": 81
        }
      ]
    },
    {
      "cell_type": "code",
      "metadata": {
        "id": "uyU6jpmRuh3Z",
        "colab_type": "code",
        "colab": {
          "base_uri": "https://localhost:8080/",
          "height": 35
        },
        "outputId": "ebb58a4f-ad18-4051-9ba3-59f0da65d19c"
      },
      "source": [
        "y.shape"
      ],
      "execution_count": 82,
      "outputs": [
        {
          "output_type": "execute_result",
          "data": {
            "text/plain": [
              "(10000,)"
            ]
          },
          "metadata": {
            "tags": []
          },
          "execution_count": 82
        }
      ]
    },
    {
      "cell_type": "code",
      "metadata": {
        "id": "e-EnakDcrkyZ",
        "colab_type": "code",
        "colab": {}
      },
      "source": [
        "#categorical variables\n",
        "from sklearn.preprocessing import OneHotEncoder,LabelEncoder\n",
        "LabelEncoder_x_1 = LabelEncoder()\n",
        "x[:,1] = LabelEncoder_x_1.fit_transform(x[:,1])\n",
        "LabelEncoder_x_2 = LabelEncoder()\n",
        "x[:,2] = LabelEncoder_x_2.fit_transform(x[:,2])\n",
        "#Onehotencoder = OneHotEncoder(categorical_features = (1))\n",
        "from sklearn.preprocessing import LabelEncoder, OneHotEncoder\n",
        "from sklearn.compose import ColumnTransformer\n",
        "\n",
        "# Country column\n",
        "ct = ColumnTransformer([(\"Geography\", OneHotEncoder(), [1])], remainder = 'passthrough')\n",
        "x = ct.fit_transform(x)\n",
        "#x = Onehotencoder.fit_transform(x).toarray()\n",
        "x = x[:,1:]"
      ],
      "execution_count": 0,
      "outputs": []
    },
    {
      "cell_type": "code",
      "metadata": {
        "id": "68YQRkbXtAk6",
        "colab_type": "code",
        "colab": {
          "base_uri": "https://localhost:8080/",
          "height": 35
        },
        "outputId": "4a6cabbc-6acf-4d05-a2fc-090d37291a0c"
      },
      "source": [
        "type(x)"
      ],
      "execution_count": 84,
      "outputs": [
        {
          "output_type": "execute_result",
          "data": {
            "text/plain": [
              "numpy.ndarray"
            ]
          },
          "metadata": {
            "tags": []
          },
          "execution_count": 84
        }
      ]
    },
    {
      "cell_type": "code",
      "metadata": {
        "id": "EUq4scp9qJqZ",
        "colab_type": "code",
        "colab": {}
      },
      "source": [
        "#train_test_Split\n",
        "from sklearn.model_selection import train_test_split \n",
        "X_train,X_test,y_train,y_test = train_test_split(x,y,test_size = 0.25,random_state =0 )"
      ],
      "execution_count": 0,
      "outputs": []
    },
    {
      "cell_type": "code",
      "metadata": {
        "id": "SIaGGomCqWSj",
        "colab_type": "code",
        "colab": {}
      },
      "source": [
        "#feature scaling\n",
        "from sklearn.preprocessing import  StandardScaler\n",
        "sc = StandardScaler()\n",
        "X_train = sc.fit_transform(X_train)\n",
        "X_test = sc.fit_transform(X_test)"
      ],
      "execution_count": 0,
      "outputs": []
    },
    {
      "cell_type": "code",
      "metadata": {
        "id": "WRpaCmQzveJ0",
        "colab_type": "code",
        "colab": {}
      },
      "source": [
        "import keras \n",
        "from keras.models import Sequential\n",
        "from keras.layers import Dense\n",
        "from keras.layers import Dropout\n",
        "#from tensorflow.keras import backend"
      ],
      "execution_count": 0,
      "outputs": []
    },
    {
      "cell_type": "code",
      "metadata": {
        "id": "2L7_bznb4PRx",
        "colab_type": "code",
        "colab": {}
      },
      "source": [
        "# !pip3 install tensorflow==1.4"
      ],
      "execution_count": 0,
      "outputs": []
    },
    {
      "cell_type": "code",
      "metadata": {
        "id": "axDMF2Jg7hrO",
        "colab_type": "code",
        "colab": {
          "base_uri": "https://localhost:8080/",
          "height": 35
        },
        "outputId": "3fe6b8f1-4061-4d3b-a7c7-947c64b98a18"
      },
      "source": [
        "X_train.shape"
      ],
      "execution_count": 89,
      "outputs": [
        {
          "output_type": "execute_result",
          "data": {
            "text/plain": [
              "(7500, 11)"
            ]
          },
          "metadata": {
            "tags": []
          },
          "execution_count": 89
        }
      ]
    },
    {
      "cell_type": "code",
      "metadata": {
        "id": "JaQ8ZFtKw2-T",
        "colab_type": "code",
        "colab": {}
      },
      "source": [
        "#intializing our neural network with dropout\n",
        "classifier  = Sequential()\n",
        "classifier.add(Dense(units = 6,kernel_initializer= 'uniform',activation = 'relu',input_dim = 11))\n",
        "classifier.add(Dropout(rate = 0.1))\n",
        "classifier.add(Dense(units = 6,kernel_initializer= 'uniform',activation= 'relu')) \n",
        "classifier.add(Dropout(rate= 0.1))\n",
        "classifier.add(Dense(units = 1, kernel_initializer= 'uniform',activation = 'sigmoid'))"
      ],
      "execution_count": 0,
      "outputs": []
    },
    {
      "cell_type": "code",
      "metadata": {
        "id": "tzr2FC5uzk7M",
        "colab_type": "code",
        "colab": {}
      },
      "source": [
        "#parameter tuning "
      ],
      "execution_count": 0,
      "outputs": []
    },
    {
      "cell_type": "code",
      "metadata": {
        "id": "vTbdfGLp5Jon",
        "colab_type": "code",
        "colab": {}
      },
      "source": [
        "#compiling the model \n",
        "classifier.compile(optimizer= 'adam',loss = 'binary_crossentropy',metrics = ['accuracy'])"
      ],
      "execution_count": 0,
      "outputs": []
    },
    {
      "cell_type": "code",
      "metadata": {
        "id": "MqL4q6625Jyj",
        "colab_type": "code",
        "colab": {
          "base_uri": "https://localhost:8080/",
          "height": 403
        },
        "outputId": "e13bb809-ab24-4247-9d34-bd3457f59ffa"
      },
      "source": [
        "#fitting the model \n",
        "classifier.fit(X_train,y_train,batch_size=10,epochs = 10)"
      ],
      "execution_count": 94,
      "outputs": [
        {
          "output_type": "stream",
          "text": [
            "Epoch 1/10\n",
            "7500/7500 [==============================] - 1s 173us/step - loss: 0.4926 - acc: 0.7964\n",
            "Epoch 2/10\n",
            "7500/7500 [==============================] - 1s 163us/step - loss: 0.4392 - acc: 0.7963\n",
            "Epoch 3/10\n",
            "7500/7500 [==============================] - 1s 157us/step - loss: 0.4356 - acc: 0.7963\n",
            "Epoch 4/10\n",
            "7500/7500 [==============================] - 1s 154us/step - loss: 0.4336 - acc: 0.7963\n",
            "Epoch 5/10\n",
            "7500/7500 [==============================] - 1s 152us/step - loss: 0.4296 - acc: 0.7963\n",
            "Epoch 6/10\n",
            "7500/7500 [==============================] - 1s 157us/step - loss: 0.4276 - acc: 0.7963\n",
            "Epoch 7/10\n",
            "7500/7500 [==============================] - 1s 155us/step - loss: 0.4255 - acc: 0.8151\n",
            "Epoch 8/10\n",
            "7500/7500 [==============================] - 1s 157us/step - loss: 0.4273 - acc: 0.8221\n",
            "Epoch 9/10\n",
            "7500/7500 [==============================] - 1s 158us/step - loss: 0.4269 - acc: 0.8261\n",
            "Epoch 10/10\n",
            "7500/7500 [==============================] - 1s 154us/step - loss: 0.4257 - acc: 0.8251\n"
          ],
          "name": "stdout"
        },
        {
          "output_type": "execute_result",
          "data": {
            "text/plain": [
              "<keras.callbacks.History at 0x7f352635e320>"
            ]
          },
          "metadata": {
            "tags": []
          },
          "execution_count": 94
        }
      ]
    },
    {
      "cell_type": "code",
      "metadata": {
        "id": "vDIY9u_s5JvA",
        "colab_type": "code",
        "colab": {
          "base_uri": "https://localhost:8080/",
          "height": 54
        },
        "outputId": "6832be5f-d939-4c07-9358-d5372a8a938b"
      },
      "source": [
        "#loss and metrics\n",
        "loss_and_metrics = classifier.evaluate(X_test, y_test, batch_size=100)\n",
        "print(loss_and_metrics)"
      ],
      "execution_count": 95,
      "outputs": [
        {
          "output_type": "stream",
          "text": [
            "2500/2500 [==============================] - 0s 23us/step\n",
            "[0.4128495252132416, 0.8355999994277954]\n"
          ],
          "name": "stdout"
        }
      ]
    },
    {
      "cell_type": "code",
      "metadata": {
        "id": "k6GKYz109yi6",
        "colab_type": "code",
        "colab": {}
      },
      "source": [
        "#prediction on test set \n",
        "y_pred = classifier.predict(X_test)\n",
        "y_pred = (y_pred>0.5)"
      ],
      "execution_count": 0,
      "outputs": []
    },
    {
      "cell_type": "code",
      "metadata": {
        "id": "ITf260cZBCPq",
        "colab_type": "code",
        "colab": {
          "base_uri": "https://localhost:8080/",
          "height": 146
        },
        "outputId": "589dccdc-3145-464e-f7fb-396500a201be"
      },
      "source": [
        "y_pred"
      ],
      "execution_count": 97,
      "outputs": [
        {
          "output_type": "execute_result",
          "data": {
            "text/plain": [
              "array([[False],\n",
              "       [False],\n",
              "       [False],\n",
              "       ...,\n",
              "       [False],\n",
              "       [False],\n",
              "       [False]])"
            ]
          },
          "metadata": {
            "tags": []
          },
          "execution_count": 97
        }
      ]
    },
    {
      "cell_type": "code",
      "metadata": {
        "id": "68mlEr4FAmom",
        "colab_type": "code",
        "colab": {}
      },
      "source": [
        "#making the confusion matrix \n",
        "from sklearn.metrics import confusion_matrix\n",
        "cm = confusion_matrix(y_test,y_pred)"
      ],
      "execution_count": 0,
      "outputs": []
    },
    {
      "cell_type": "code",
      "metadata": {
        "id": "C4-WKRaWA3um",
        "colab_type": "code",
        "colab": {
          "base_uri": "https://localhost:8080/",
          "height": 54
        },
        "outputId": "bc94bf72-82e3-42be-c439-14dd784468af"
      },
      "source": [
        "print(cm)"
      ],
      "execution_count": 99,
      "outputs": [
        {
          "output_type": "stream",
          "text": [
            "[[1963   28]\n",
            " [ 383  126]]\n"
          ],
          "name": "stdout"
        }
      ]
    },
    {
      "cell_type": "code",
      "metadata": {
        "id": "4tXGlZECCjuK",
        "colab_type": "code",
        "colab": {}
      },
      "source": [
        "#evaluating the ann:- K-fold cross_validation\n",
        "from keras.wrappers.scikit_learn import KerasClassifier"
      ],
      "execution_count": 0,
      "outputs": []
    },
    {
      "cell_type": "code",
      "metadata": {
        "id": "VroQmvroEMBx",
        "colab_type": "code",
        "colab": {}
      },
      "source": [
        "from sklearn.model_selection import cross_val_score\n"
      ],
      "execution_count": 0,
      "outputs": []
    },
    {
      "cell_type": "code",
      "metadata": {
        "id": "eDO5Bo64ETd1",
        "colab_type": "code",
        "colab": {}
      },
      "source": [
        "#build an architecture \n",
        "def build_classifier():\n",
        "  classifier  = Sequential()\n",
        "  classifier.add(Dense(units = 6,kernel_initializer= 'uniform',activation = 'relu',input_dim = 11))\n",
        "  classifier.add(Dense(units = 6,kernel_initializer= 'uniform',activation= 'relu')) \n",
        "  classifier.add(Dense(units = 1, kernel_initializer= 'uniform',activation = 'sigmoid'))\n",
        "  classifier.compile(optimizer= 'adam',loss = 'binary_crossentropy',metrics = ['accuracy'])\n",
        "  return classifier\n",
        "\n",
        "classifier = KerasClassifier(build_fn = build_classifier,batch_size = 10, nb_epoch = 100)\n",
        "accuracies = cross_val_score(estimator = classifier, X = X_train,y = y_train , cv = 10,n_jobs = -1)"
      ],
      "execution_count": 0,
      "outputs": []
    },
    {
      "cell_type": "code",
      "metadata": {
        "id": "hkKM7NekGi-l",
        "colab_type": "code",
        "colab": {
          "base_uri": "https://localhost:8080/",
          "height": 54
        },
        "outputId": "63f9d337-449f-4e04-fd10-ac2fe074a53f"
      },
      "source": [
        "print(accuracies)"
      ],
      "execution_count": 103,
      "outputs": [
        {
          "output_type": "stream",
          "text": [
            "[0.78533333 0.78933333 0.80133333 0.78933333 0.832      0.79333333\n",
            " 0.776      0.80266666 0.79733333 0.79599999]\n"
          ],
          "name": "stdout"
        }
      ]
    },
    {
      "cell_type": "code",
      "metadata": {
        "id": "05l71I1rG2aj",
        "colab_type": "code",
        "colab": {
          "base_uri": "https://localhost:8080/",
          "height": 35
        },
        "outputId": "e600c4d5-cf2e-4074-fd05-a836abb51cb2"
      },
      "source": [
        "mean = accuracies.mean()\n",
        "print(mean)"
      ],
      "execution_count": 104,
      "outputs": [
        {
          "output_type": "stream",
          "text": [
            "0.7962666634718577\n"
          ],
          "name": "stdout"
        }
      ]
    },
    {
      "cell_type": "code",
      "metadata": {
        "id": "nk_Yq2OMG72h",
        "colab_type": "code",
        "colab": {
          "base_uri": "https://localhost:8080/",
          "height": 35
        },
        "outputId": "fb639251-8d1a-4278-fc7e-9e569c1b1472"
      },
      "source": [
        "variance = accuracies.std()\n",
        "print(variance)"
      ],
      "execution_count": 105,
      "outputs": [
        {
          "output_type": "stream",
          "text": [
            "0.014070299675569902\n"
          ],
          "name": "stdout"
        }
      ]
    },
    {
      "cell_type": "code",
      "metadata": {
        "id": "mEUWFuWVHENI",
        "colab_type": "code",
        "colab": {
          "base_uri": "https://localhost:8080/",
          "height": 1000
        },
        "outputId": "da3974ca-6a91-4056-b737-8ac6b47563f0"
      },
      "source": [
        "#tuning the ann\n",
        "from keras.wrappers.scikit_learn import KerasClassifier\n",
        "from sklearn.model_selection import GridSearchCV\n",
        "#build an architecture \n",
        "def build_classifier(optimizer):\n",
        "  classifier  = Sequential()\n",
        "  classifier.add(Dense(units = 6,kernel_initializer= 'uniform',activation = 'relu',input_dim = 11))\n",
        "  classifier.add(Dense(units = 6,kernel_initializer= 'uniform',activation= 'relu')) \n",
        "  classifier.add(Dense(units = 1, kernel_initializer= 'uniform',activation = 'sigmoid'))\n",
        "  classifier.compile(optimizer= optimizer,loss = 'binary_crossentropy',metrics = ['accuracy'])\n",
        "  return classifier\n",
        "\n",
        "classifier = KerasClassifier(build_fn = build_classifier)\n",
        "parameters = {'batch_size':[25,32],\n",
        "              'nb_epoch': [100,500],\n",
        "              'optimizer':['adam','rmsprop']}\n",
        "\n",
        "\n",
        "gridsearch = GridSearchCV(estimator = classifier,\n",
        "                          param_grid = parameters,\n",
        "                          scoring = 'accuracy',\n",
        "                          cv = 10)\n",
        "gridsearch = gridsearch.fit(X_train,y_train)\n",
        "\n",
        "best_parameters = gridsearch.best_params_\n",
        "best_accuracy = gridsearch.best_score_\n",
        "\n",
        "print(best_accuracy)\n",
        "print(best_parameters)\n",
        "\n",
        "#accuracies = cross_val_score(estimator = classifier, X = X_train,y = y_train , cv = 10,n_jobs = -1)"
      ],
      "execution_count": 0,
      "outputs": [
        {
          "output_type": "stream",
          "text": [
            "Epoch 1/1\n",
            "6750/6750 [==============================] - 13s 2ms/step - loss: 0.5552 - acc: 0.7972\n",
            "Epoch 1/1\n",
            "6750/6750 [==============================] - 8s 1ms/step - loss: 0.5841 - acc: 0.7956\n",
            "Epoch 1/1\n",
            "6750/6750 [==============================] - 8s 1ms/step - loss: 0.5721 - acc: 0.7938\n",
            "Epoch 1/1\n",
            "6750/6750 [==============================] - 8s 1ms/step - loss: 0.5607 - acc: 0.7970\n",
            "Epoch 1/1\n",
            "6750/6750 [==============================] - 8s 1ms/step - loss: 0.5757 - acc: 0.7911\n",
            "Epoch 1/1\n",
            "6750/6750 [==============================] - 8s 1ms/step - loss: 0.6586 - acc: 0.7935\n",
            "Epoch 1/1\n",
            "6750/6750 [==============================] - 8s 1ms/step - loss: 0.5687 - acc: 0.7972\n",
            "Epoch 1/1\n",
            "6750/6750 [==============================] - 8s 1ms/step - loss: 0.5577 - acc: 0.7957\n",
            "Epoch 1/1\n",
            "6750/6750 [==============================] - 8s 1ms/step - loss: 0.5554 - acc: 0.7953\n",
            "Epoch 1/1\n",
            "6750/6750 [==============================] - 8s 1ms/step - loss: 0.5896 - acc: 0.7941\n",
            "Epoch 1/1\n",
            "6750/6750 [==============================] - 8s 1ms/step - loss: 0.5785 - acc: 0.7975\n",
            "Epoch 1/1\n",
            "6750/6750 [==============================] - 8s 1ms/step - loss: 0.5816 - acc: 0.7948\n",
            "Epoch 1/1\n",
            "6750/6750 [==============================] - 9s 1ms/step - loss: 0.5941 - acc: 0.7939\n",
            "Epoch 1/1\n",
            "6750/6750 [==============================] - 9s 1ms/step - loss: 0.6088 - acc: 0.7967\n",
            "Epoch 1/1\n",
            "6750/6750 [==============================] - 9s 1ms/step - loss: 0.5668 - acc: 0.7923\n",
            "Epoch 1/1\n",
            "6750/6750 [==============================] - 9s 1ms/step - loss: 0.5943 - acc: 0.7956\n",
            "Epoch 1/1\n",
            "6750/6750 [==============================] - 9s 1ms/step - loss: 0.5732 - acc: 0.7970\n",
            "Epoch 1/1\n",
            "6750/6750 [==============================] - 10s 1ms/step - loss: 0.5913 - acc: 0.7951\n",
            "Epoch 1/1\n",
            "6750/6750 [==============================] - 9s 1ms/step - loss: 0.5795 - acc: 0.7960\n",
            "Epoch 1/1\n",
            "6750/6750 [==============================] - 9s 1ms/step - loss: 0.6272 - acc: 0.7939\n",
            "Epoch 1/1\n",
            "6750/6750 [==============================] - 9s 1ms/step - loss: 0.5568 - acc: 0.7975\n",
            "Epoch 1/1\n",
            "6750/6750 [==============================] - 9s 1ms/step - loss: 0.5610 - acc: 0.7961\n",
            "Epoch 1/1\n",
            "6750/6750 [==============================] - 9s 1ms/step - loss: 0.5855 - acc: 0.7939\n",
            "Epoch 1/1\n",
            "6750/6750 [==============================] - 9s 1ms/step - loss: 0.5572 - acc: 0.7970\n",
            "Epoch 1/1\n",
            "6750/6750 [==============================] - 9s 1ms/step - loss: 0.5828 - acc: 0.7920\n",
            "Epoch 1/1\n",
            "6750/6750 [==============================] - 9s 1ms/step - loss: 0.5666 - acc: 0.7966\n",
            "Epoch 1/1\n",
            "6750/6750 [==============================] - 9s 1ms/step - loss: 0.5622 - acc: 0.7970\n",
            "Epoch 1/1\n",
            "6750/6750 [==============================] - 9s 1ms/step - loss: 0.5954 - acc: 0.7935\n",
            "Epoch 1/1\n",
            "6750/6750 [==============================] - 9s 1ms/step - loss: 0.6149 - acc: 0.7933\n",
            "Epoch 1/1\n",
            "6750/6750 [==============================] - 10s 1ms/step - loss: 0.5731 - acc: 0.7951\n",
            "Epoch 1/1\n",
            "6750/6750 [==============================] - 9s 1ms/step - loss: 0.5881 - acc: 0.7966\n",
            "Epoch 1/1\n",
            "6750/6750 [==============================] - 9s 1ms/step - loss: 0.5987 - acc: 0.7963\n",
            "Epoch 1/1\n",
            "6750/6750 [==============================] - 9s 1ms/step - loss: 0.5631 - acc: 0.7957\n",
            "Epoch 1/1\n",
            "6750/6750 [==============================] - 9s 1ms/step - loss: 0.5789 - acc: 0.7956\n",
            "Epoch 1/1\n",
            "6750/6750 [==============================] - 9s 1ms/step - loss: 0.5941 - acc: 0.7913\n",
            "Epoch 1/1\n",
            "6750/6750 [==============================] - 9s 1ms/step - loss: 0.5985 - acc: 0.7945\n",
            "Epoch 1/1\n",
            "6750/6750 [==============================] - 9s 1ms/step - loss: 0.5877 - acc: 0.7956\n",
            "Epoch 1/1\n",
            "6750/6750 [==============================] - 9s 1ms/step - loss: 0.5920 - acc: 0.7948\n",
            "Epoch 1/1\n",
            "6750/6750 [==============================] - 9s 1ms/step - loss: 0.6259 - acc: 0.7948\n",
            "Epoch 1/1\n",
            "6750/6750 [==============================] - 10s 1ms/step - loss: 0.5702 - acc: 0.7960\n",
            "Epoch 1/1\n",
            "6750/6750 [==============================] - 9s 1ms/step - loss: 0.6359 - acc: 0.7942\n",
            "Epoch 1/1\n",
            "6750/6750 [==============================] - 10s 1ms/step - loss: 0.5822 - acc: 0.7970\n",
            "Epoch 1/1\n",
            "6750/6750 [==============================] - 9s 1ms/step - loss: 0.6001 - acc: 0.7945\n",
            "Epoch 1/1\n"
          ],
          "name": "stdout"
        }
      ]
    },
    {
      "cell_type": "code",
      "metadata": {
        "id": "qa-zAgUaWxj9",
        "colab_type": "code",
        "colab": {}
      },
      "source": [
        ""
      ],
      "execution_count": 0,
      "outputs": []
    }
  ]
}