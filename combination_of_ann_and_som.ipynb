{
  "nbformat": 4,
  "nbformat_minor": 0,
  "metadata": {
    "colab": {
      "name": "combination of ann and som.ipynb",
      "provenance": [],
      "authorship_tag": "ABX9TyPfx8a+aYts6DdMtGfHgfMk",
      "include_colab_link": true
    },
    "kernelspec": {
      "name": "python3",
      "display_name": "Python 3"
    }
  },
  "cells": [
    {
      "cell_type": "markdown",
      "metadata": {
        "id": "view-in-github",
        "colab_type": "text"
      },
      "source": [
        "<a href=\"https://colab.research.google.com/github/Abhishek1236/deep-learning-model/blob/master/combination_of_ann_and_som.ipynb\" target=\"_parent\"><img src=\"https://colab.research.google.com/assets/colab-badge.svg\" alt=\"Open In Colab\"/></a>"
      ]
    },
    {
      "cell_type": "code",
      "metadata": {
        "id": "u3xSD4L87NjC",
        "colab_type": "code",
        "colab": {
          "base_uri": "https://localhost:8080/",
          "height": 268
        },
        "outputId": "0a74da1c-228c-4731-c67c-5f3aa51f5026"
      },
      "source": [
        "#hybrid deep learning model\n",
        "# part -1 identify the fraud using som \n",
        "#importing the libraries\n",
        "import pandas as pd \n",
        "import numpy as np\n",
        "import matplotlib.pyplot as plt\n",
        "#importing the dataset\n",
        "dataset = pd.read_csv('/content/Credit_Card_Applications.csv')\n",
        "\n",
        "x = dataset.iloc[:,:-1].values\n",
        "y = dataset.iloc[:,-1].values\n",
        "\n",
        "#feature scaling \n",
        "from sklearn.preprocessing import MinMaxScaler\n",
        "sc = MinMaxScaler(feature_range= (0,1))\n",
        "x = sc.fit_transform(x)\n",
        "\n",
        "from minisom import MiniSom\n",
        "\n",
        "#Training the Som\n",
        "som = MiniSom(x = 10,y = 10,input_len =15,sigma = 1.0,learning_rate = 0.5)\n",
        "\n",
        "\n",
        "#initializing the weights\n",
        "som.random_weights_init(x)\n",
        "som.train_random(x,num_iteration=100)\n",
        "\n",
        "#visualizing the reault\n",
        "from pylab import bone, pcolor,colorbar,plot,show\n",
        "bone()\n",
        "pcolor(som.distance_map().T)\n",
        "colorbar()\n",
        "markers = ['o','s']\n",
        "colors = ['r','g']\n",
        "for i, x in enumerate(x):\n",
        "  w = som.winner(x)\n",
        "  plot(w[0]+0.5,\n",
        "       w[1]+0.5,\n",
        "       markers[y[i]],\n",
        "       markeredgecolor = colors[y[i]],\n",
        "       markerfacecolor = 'None',\n",
        "       markersize = 10,\n",
        "       markeredgewidth = 2)\n",
        "show()\n",
        "\n"
      ],
      "execution_count": 1,
      "outputs": [
        {
          "output_type": "display_data",
          "data": {
            "image/png": "[encoded data removed]",
            "text/plain": [
              "<Figure size 432x288 with 2 Axes>"
            ]
          },
          "metadata": {
            "tags": [],
            "needs_background": "light"
          }
        }
      ]
    },
    {
      "cell_type": "code",
      "metadata": {
        "id": "O6bvhxFnB2zV",
        "colab_type": "code",
        "colab": {}
      },
      "source": [
        "#finding the frauds \n",
        "mapping = som.win_map(x)\n",
        "frauds = np.concatenate((mapping[(8,1)] ,mapping[(8,0)]),axis = 0)\n",
        "frauds = sc.inverse_transform(frauds)"
      ],
      "execution_count": 0,
      "outputs": []
    },
    {
      "cell_type": "code",
      "metadata": {
        "id": "dCfOn9vQDXf6",
        "colab_type": "code",
        "colab": {
          "base_uri": "https://localhost:8080/",
          "height": 34
        },
        "outputId": "1c14521c-40a4-4e06-e8b7-1990e82be56f"
      },
      "source": [
        "frauds.shape"
      ],
      "execution_count": 6,
      "outputs": [
        {
          "output_type": "execute_result",
          "data": {
            "text/plain": [
              "(49, 15)"
            ]
          },
          "metadata": {
            "tags": []
          },
          "execution_count": 6
        }
      ]
    },
    {
      "cell_type": "code",
      "metadata": {
        "id": "szPcWOPXCRF6",
        "colab_type": "code",
        "colab": {}
      },
      "source": [
        "# going from unsupervised to supervised\n",
        "#creating the matrix of features \n",
        "customers = dataset.iloc[:,1:].values\n",
        "\n"
      ],
      "execution_count": 0,
      "outputs": []
    },
    {
      "cell_type": "code",
      "metadata": {
        "id": "225XoBMFDhnE",
        "colab_type": "code",
        "colab": {
          "base_uri": "https://localhost:8080/",
          "height": 34
        },
        "outputId": "e381dd85-220a-4832-970b-3389d1a79421"
      },
      "source": [
        "customers.shape"
      ],
      "execution_count": 10,
      "outputs": [
        {
          "output_type": "execute_result",
          "data": {
            "text/plain": [
              "(690, 15)"
            ]
          },
          "metadata": {
            "tags": []
          },
          "execution_count": 10
        }
      ]
    },
    {
      "cell_type": "code",
      "metadata": {
        "id": "eN3_TUA8DK3r",
        "colab_type": "code",
        "colab": {}
      },
      "source": [
        "#creating the dependent variables \n",
        "is_fraud = np.zeros(len(dataset))\n",
        "for i in range(len(dataset)):\n",
        "  if dataset.iloc[i,0] in frauds:\n",
        "    is_fraud[i] = 1"
      ],
      "execution_count": 0,
      "outputs": []
    },
    {
      "cell_type": "code",
      "metadata": {
        "id": "PQraUehgEKT_",
        "colab_type": "code",
        "colab": {
          "base_uri": "https://localhost:8080/",
          "height": 230
        },
        "outputId": "5cecea5f-fb5e-4706-cd2b-dce0fb4cd481"
      },
      "source": [
        "#ann \n",
        "#feature scaling\n",
        "from sklearn.preprocessing import  StandardScaler\n",
        "sc = StandardScaler()\n",
        "customers = sc.fit_transform(customers)\n",
        "\n",
        "import keras \n",
        "from keras.models import Sequential\n",
        "from keras.layers import Dense\n",
        "#from keras.layers import Dropout\n",
        "\n",
        "#intializing our neural network with dropout\n",
        "classifier  = Sequential()\n",
        "classifier.add(Dense(units = 2,kernel_initializer= 'uniform',activation = 'relu',input_dim = 15))\n",
        "classifier.add(Dense(units = 1, kernel_initializer= 'uniform',activation = 'sigmoid'))\n",
        "\n",
        "#compiling the model \n",
        "classifier.compile(optimizer= 'adam',loss = 'binary_crossentropy',metrics = ['accuracy'])\n",
        "\n",
        "#fitting the model \n",
        "classifier.fit(customers,is_fraud,batch_size=1,epochs = 5)\n"
      ],
      "execution_count": 12,
      "outputs": [
        {
          "output_type": "stream",
          "text": [
            "Using TensorFlow backend.\n"
          ],
          "name": "stderr"
        },
        {
          "output_type": "stream",
          "text": [
            "Epoch 1/5\n",
            "690/690 [==============================] - 1s 1ms/step - loss: 0.4803 - accuracy: 0.9290\n",
            "Epoch 2/5\n",
            "690/690 [==============================] - 1s 1ms/step - loss: 0.2032 - accuracy: 0.9290\n",
            "Epoch 3/5\n",
            "690/690 [==============================] - 1s 1ms/step - loss: 0.1422 - accuracy: 0.9290\n",
            "Epoch 4/5\n",
            "690/690 [==============================] - 1s 1ms/step - loss: 0.1176 - accuracy: 0.9290\n",
            "Epoch 5/5\n",
            "690/690 [==============================] - 1s 1ms/step - loss: 0.1031 - accuracy: 0.9290\n"
          ],
          "name": "stdout"
        },
        {
          "output_type": "execute_result",
          "data": {
            "text/plain": [
              "<keras.callbacks.callbacks.History at 0x7effe242cdd8>"
            ]
          },
          "metadata": {
            "tags": []
          },
          "execution_count": 12
        }
      ]
    },
    {
      "cell_type": "code",
      "metadata": {
        "id": "717c8JgNFrdh",
        "colab_type": "code",
        "colab": {}
      },
      "source": [
        "#prediction the probabilities of fraud\n",
        "y_pred = classifier.predict(customers)"
      ],
      "execution_count": 0,
      "outputs": []
    },
    {
      "cell_type": "code",
      "metadata": {
        "id": "glFLpWMuF_8N",
        "colab_type": "code",
        "colab": {}
      },
      "source": [
        "y_pred = np.concatenate((dataset.iloc[:,0:1].values,y_pred),axis = 1)"
      ],
      "execution_count": 0,
      "outputs": []
    },
    {
      "cell_type": "code",
      "metadata": {
        "id": "eHd-9GM6Gp60",
        "colab_type": "code",
        "colab": {}
      },
      "source": [
        "#sorting the customers \n",
        "y_pred = y_pred[y_pred[:,1].argsort()]"
      ],
      "execution_count": 0,
      "outputs": []
    },
    {
      "cell_type": "code",
      "metadata": {
        "id": "uVxPjdnMGrix",
        "colab_type": "code",
        "colab": {
          "base_uri": "https://localhost:8080/",
          "height": 141
        },
        "outputId": "a3dc2ae2-fc24-41c6-ba06-3601fa4a335c"
      },
      "source": [
        "y_pred"
      ],
      "execution_count": 18,
      "outputs": [
        {
          "output_type": "execute_result",
          "data": {
            "text/plain": [
              "array([[1.57170650e+07, 1.80929899e-04],\n",
              "       [1.57238270e+07, 1.83433294e-04],\n",
              "       [1.56674600e+07, 1.96337700e-04],\n",
              "       ...,\n",
              "       [1.56514600e+07, 3.79429728e-01],\n",
              "       [1.56444530e+07, 3.79429728e-01],\n",
              "       [1.56099870e+07, 3.79429728e-01]])"
            ]
          },
          "metadata": {
            "tags": []
          },
          "execution_count": 18
        }
      ]
    },
    {
      "cell_type": "code",
      "metadata": {
        "id": "uKtSNuFoHER8",
        "colab_type": "code",
        "colab": {}
      },
      "source": [
        ""
      ],
      "execution_count": 0,
      "outputs": []
    }
  ]
}