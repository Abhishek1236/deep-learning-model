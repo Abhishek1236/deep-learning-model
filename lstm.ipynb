{
  "nbformat": 4,
  "nbformat_minor": 0,
  "metadata": {
    "colab": {
      "name": "lstm.ipynb",
      "provenance": [],
      "authorship_tag": "ABX9TyMNe08nlNiXL3Ph6wh8qQWy",
      "include_colab_link": true
    },
    "kernelspec": {
      "name": "python3",
      "display_name": "Python 3"
    }
  },
  "cells": [
    {
      "cell_type": "markdown",
      "metadata": {
        "id": "view-in-github",
        "colab_type": "text"
      },
      "source": [
        "<a href=\"https://colab.research.google.com/github/Abhishek1236/deep-learning-model/blob/master/lstm.ipynb\" target=\"_parent\"><img src=\"https://colab.research.google.com/assets/colab-badge.svg\" alt=\"Open In Colab\"/></a>"
      ]
    },
    {
      "cell_type": "code",
      "metadata": {
        "id": "4iPicAZrCrrG",
        "colab_type": "code",
        "colab": {}
      },
      "source": [
        "#Lstm for prediction of stock price predictions\n",
        "# data preprocessing \n",
        "import pandas as pd\n",
        "import numpy as np \n",
        "import matplotlib.pyplot as plt\n"
      ],
      "execution_count": 0,
      "outputs": []
    },
    {
      "cell_type": "code",
      "metadata": {
        "id": "Vv4XCtS0EdtR",
        "colab_type": "code",
        "colab": {}
      },
      "source": [
        "#importing the training set \n",
        "dataset_train = pd.read_csv(\"/content/Google_Stock_Price_Train.csv\")"
      ],
      "execution_count": 0,
      "outputs": []
    },
    {
      "cell_type": "code",
      "metadata": {
        "id": "NzD4W5LmFNf6",
        "colab_type": "code",
        "colab": {
          "base_uri": "https://localhost:8080/",
          "height": 191
        },
        "outputId": "c351cece-a18e-4a28-aa40-baf968f6ef01"
      },
      "source": [
        "dataset_train.head()"
      ],
      "execution_count": 3,
      "outputs": [
        {
          "output_type": "execute_result",
          "data": {
            "text/html": [
              "<div>\n",
              "<style scoped>\n",
              "    .dataframe tbody tr th:only-of-type {\n",
              "        vertical-align: middle;\n",
              "    }\n",
              "\n",
              "    .dataframe tbody tr th {\n",
              "        vertical-align: top;\n",
              "    }\n",
              "\n",
              "    .dataframe thead th {\n",
              "        text-align: right;\n",
              "    }\n",
              "</style>\n",
              "<table border=\"1\" class=\"dataframe\">\n",
              "  <thead>\n",
              "    <tr style=\"text-align: right;\">\n",
              "      <th></th>\n",
              "      <th>Date</th>\n",
              "      <th>Open</th>\n",
              "      <th>High</th>\n",
              "      <th>Low</th>\n",
              "      <th>Close</th>\n",
              "      <th>Volume</th>\n",
              "    </tr>\n",
              "  </thead>\n",
              "  <tbody>\n",
              "    <tr>\n",
              "      <th>0</th>\n",
              "      <td>1/3/2012</td>\n",
              "      <td>325.25</td>\n",
              "      <td>332.83</td>\n",
              "      <td>324.97</td>\n",
              "      <td>663.59</td>\n",
              "      <td>7,380,500</td>\n",
              "    </tr>\n",
              "    <tr>\n",
              "      <th>1</th>\n",
              "      <td>1/4/2012</td>\n",
              "      <td>331.27</td>\n",
              "      <td>333.87</td>\n",
              "      <td>329.08</td>\n",
              "      <td>666.45</td>\n",
              "      <td>5,749,400</td>\n",
              "    </tr>\n",
              "    <tr>\n",
              "      <th>2</th>\n",
              "      <td>1/5/2012</td>\n",
              "      <td>329.83</td>\n",
              "      <td>330.75</td>\n",
              "      <td>326.89</td>\n",
              "      <td>657.21</td>\n",
              "      <td>6,590,300</td>\n",
              "    </tr>\n",
              "    <tr>\n",
              "      <th>3</th>\n",
              "      <td>1/6/2012</td>\n",
              "      <td>328.34</td>\n",
              "      <td>328.77</td>\n",
              "      <td>323.68</td>\n",
              "      <td>648.24</td>\n",
              "      <td>5,405,900</td>\n",
              "    </tr>\n",
              "    <tr>\n",
              "      <th>4</th>\n",
              "      <td>1/9/2012</td>\n",
              "      <td>322.04</td>\n",
              "      <td>322.29</td>\n",
              "      <td>309.46</td>\n",
              "      <td>620.76</td>\n",
              "      <td>11,688,800</td>\n",
              "    </tr>\n",
              "  </tbody>\n",
              "</table>\n",
              "</div>"
            ],
            "text/plain": [
              "       Date    Open    High     Low   Close      Volume\n",
              "0  1/3/2012  325.25  332.83  324.97  663.59   7,380,500\n",
              "1  1/4/2012  331.27  333.87  329.08  666.45   5,749,400\n",
              "2  1/5/2012  329.83  330.75  326.89  657.21   6,590,300\n",
              "3  1/6/2012  328.34  328.77  323.68  648.24   5,405,900\n",
              "4  1/9/2012  322.04  322.29  309.46  620.76  11,688,800"
            ]
          },
          "metadata": {
            "tags": []
          },
          "execution_count": 3
        }
      ]
    },
    {
      "cell_type": "code",
      "metadata": {
        "id": "SDdRHAkAFSt-",
        "colab_type": "code",
        "colab": {}
      },
      "source": [
        "#creating the numpy array\n",
        "training_set = dataset_train.iloc[:,1:2].values"
      ],
      "execution_count": 0,
      "outputs": []
    },
    {
      "cell_type": "code",
      "metadata": {
        "id": "4SxobWScM0iQ",
        "colab_type": "code",
        "colab": {
          "base_uri": "https://localhost:8080/",
          "height": 131
        },
        "outputId": "59d24fa3-1115-4b34-a371-09486e651dd7"
      },
      "source": [
        "training_set"
      ],
      "execution_count": 8,
      "outputs": [
        {
          "output_type": "execute_result",
          "data": {
            "text/plain": [
              "array([[325.25],\n",
              "       [331.27],\n",
              "       [329.83],\n",
              "       ...,\n",
              "       [793.7 ],\n",
              "       [783.33],\n",
              "       [782.75]])"
            ]
          },
          "metadata": {
            "tags": []
          },
          "execution_count": 8
        }
      ]
    },
    {
      "cell_type": "code",
      "metadata": {
        "id": "VwOVSwVPM2zK",
        "colab_type": "code",
        "colab": {}
      },
      "source": [
        "# Feature scaling\n",
        "from sklearn.preprocessing import MinMaxScaler\n",
        "sc = MinMaxScaler(feature_range = (0,1))\n",
        "scaled_training_set = sc.fit_transform(training_set)"
      ],
      "execution_count": 0,
      "outputs": []
    },
    {
      "cell_type": "code",
      "metadata": {
        "id": "bkSCa_o6OmWi",
        "colab_type": "code",
        "colab": {
          "base_uri": "https://localhost:8080/",
          "height": 141
        },
        "outputId": "7ec7d2e1-be68-401f-fa3e-e944a7885c61"
      },
      "source": [
        "scaled_training_set"
      ],
      "execution_count": 10,
      "outputs": [
        {
          "output_type": "execute_result",
          "data": {
            "text/plain": [
              "array([[0.08581368],\n",
              "       [0.09701243],\n",
              "       [0.09433366],\n",
              "       ...,\n",
              "       [0.95725128],\n",
              "       [0.93796041],\n",
              "       [0.93688146]])"
            ]
          },
          "metadata": {
            "tags": []
          },
          "execution_count": 10
        }
      ]
    },
    {
      "cell_type": "code",
      "metadata": {
        "id": "F709mGXDOod9",
        "colab_type": "code",
        "colab": {}
      },
      "source": [
        "#Creating a datastructure with 60 timesteps and 1 output \n",
        "x_train = []\n",
        "y_train = []\n",
        "for i in range(60,1258):\n",
        "  x_train.append(scaled_training_set[i-60:i, 0])\n",
        "  y_train.append(scaled_training_set[i, 0])\n",
        "  \n",
        "x_train, y_train = np.array(x_train),np.array(y_train)"
      ],
      "execution_count": 0,
      "outputs": []
    },
    {
      "cell_type": "code",
      "metadata": {
        "id": "B0J64URzSwRO",
        "colab_type": "code",
        "colab": {
          "base_uri": "https://localhost:8080/",
          "height": 52
        },
        "outputId": "2ff5ac55-fc93-40f9-c330-5094db75d89f"
      },
      "source": [
        "print(x_train.shape[0])\n",
        "print(x_train.shape[1])"
      ],
      "execution_count": 16,
      "outputs": [
        {
          "output_type": "stream",
          "text": [
            "1198\n",
            "60\n"
          ],
          "name": "stdout"
        }
      ]
    },
    {
      "cell_type": "code",
      "metadata": {
        "id": "QFMaOjnvRc2m",
        "colab_type": "code",
        "colab": {}
      },
      "source": [
        "#reshaping \n",
        "x_train = np.reshape(x_train,(x_train.shape[0],x_train.shape[1],1))"
      ],
      "execution_count": 0,
      "outputs": []
    },
    {
      "cell_type": "code",
      "metadata": {
        "id": "LpOcy5phUbtL",
        "colab_type": "code",
        "colab": {
          "base_uri": "https://localhost:8080/",
          "height": 34
        },
        "outputId": "41703828-c3cf-4f48-a465-8b3c1f9c2f68"
      },
      "source": [
        "x_train.shape"
      ],
      "execution_count": 18,
      "outputs": [
        {
          "output_type": "execute_result",
          "data": {
            "text/plain": [
              "(1198, 60, 1)"
            ]
          },
          "metadata": {
            "tags": []
          },
          "execution_count": 18
        }
      ]
    },
    {
      "cell_type": "code",
      "metadata": {
        "id": "ZUJQZmpqUgN1",
        "colab_type": "code",
        "colab": {}
      },
      "source": [
        "#building the RNN\n",
        "#importing the libraries \n",
        "from keras.models import Sequential\n",
        "from keras.layers import Dense\n",
        "from keras.layers import LSTM\n",
        "from keras.layers import Dropout"
      ],
      "execution_count": 0,
      "outputs": []
    },
    {
      "cell_type": "code",
      "metadata": {
        "id": "2-OaDB5QVfwS",
        "colab_type": "code",
        "colab": {}
      },
      "source": [
        "#initialising the rnn\n",
        "regressor = Sequential()"
      ],
      "execution_count": 0,
      "outputs": []
    },
    {
      "cell_type": "code",
      "metadata": {
        "id": "_8HNVvcpVpaP",
        "colab_type": "code",
        "colab": {}
      },
      "source": [
        "# adding the first lstm layers and some dropout regularisation\n",
        "regressor.add(LSTM(units =50,return_sequences= True,input_shape= (x_train.shape[1],1)))\n",
        "regressor.add(Dropout(0.2))"
      ],
      "execution_count": 0,
      "outputs": []
    },
    {
      "cell_type": "code",
      "metadata": {
        "id": "RaMwU7gOaHbU",
        "colab_type": "code",
        "colab": {}
      },
      "source": [
        "#second lstm layer\n",
        "regressor.add(LSTM(units =50,return_sequences= True))\n",
        "regressor.add(Dropout(0.2))\n",
        "# third lstm layer\n",
        "regressor.add(LSTM(units =50,return_sequences= True))\n",
        "regressor.add(Dropout(0.2))\n",
        "# fourth lstm layer\n",
        "regressor.add(LSTM(units =50,return_sequences= False))\n",
        "regressor.add(Dropout(0.2))\n"
      ],
      "execution_count": 0,
      "outputs": []
    },
    {
      "cell_type": "code",
      "metadata": {
        "id": "D9IIeXspbEoY",
        "colab_type": "code",
        "colab": {}
      },
      "source": [
        "# adding the output layer\n",
        "regressor.add(Dense(units = 1))"
      ],
      "execution_count": 0,
      "outputs": []
    },
    {
      "cell_type": "code",
      "metadata": {
        "id": "GXrvRjrxbmGu",
        "colab_type": "code",
        "colab": {}
      },
      "source": [
        "#compiling the rnn \n",
        "regressor.compile(optimizer = \"adam\",loss = \"mean_squared_error\")"
      ],
      "execution_count": 0,
      "outputs": []
    },
    {
      "cell_type": "code",
      "metadata": {
        "id": "VIcpO3OCck2d",
        "colab_type": "code",
        "colab": {
          "base_uri": "https://localhost:8080/",
          "height": 1000
        },
        "outputId": "a8397881-22d2-41a6-e7d7-36d724f80cb8"
      },
      "source": [
        "#fitting the rnn model to the training set \n",
        "regressor.fit(x_train,y_train,epochs=100,batch_size=32,use_multiprocessing= True)"
      ],
      "execution_count": 26,
      "outputs": [
        {
          "output_type": "stream",
          "text": [
            "Epoch 1/100\n",
            "1198/1198 [==============================] - 7s 5ms/step - loss: 0.0384\n",
            "Epoch 2/100\n",
            "1198/1198 [==============================] - 5s 4ms/step - loss: 0.0063\n",
            "Epoch 3/100\n",
            "1198/1198 [==============================] - 5s 4ms/step - loss: 0.0053\n",
            "Epoch 4/100\n",
            "1198/1198 [==============================] - 5s 4ms/step - loss: 0.0055\n",
            "Epoch 5/100\n",
            "1198/1198 [==============================] - 5s 4ms/step - loss: 0.0048\n",
            "Epoch 6/100\n",
            "1198/1198 [==============================] - 5s 4ms/step - loss: 0.0044\n",
            "Epoch 7/100\n",
            "1198/1198 [==============================] - 5s 4ms/step - loss: 0.0067\n",
            "Epoch 8/100\n",
            "1198/1198 [==============================] - 5s 4ms/step - loss: 0.0046\n",
            "Epoch 9/100\n",
            "1198/1198 [==============================] - 5s 4ms/step - loss: 0.0053\n",
            "Epoch 10/100\n",
            "1198/1198 [==============================] - 5s 4ms/step - loss: 0.0045\n",
            "Epoch 11/100\n",
            "1198/1198 [==============================] - 5s 4ms/step - loss: 0.0047\n",
            "Epoch 12/100\n",
            "1198/1198 [==============================] - 5s 4ms/step - loss: 0.0054\n",
            "Epoch 13/100\n",
            "1198/1198 [==============================] - 5s 4ms/step - loss: 0.0038\n",
            "Epoch 14/100\n",
            "1198/1198 [==============================] - 5s 4ms/step - loss: 0.0040\n",
            "Epoch 15/100\n",
            "1198/1198 [==============================] - 5s 4ms/step - loss: 0.0040\n",
            "Epoch 16/100\n",
            "1198/1198 [==============================] - 5s 4ms/step - loss: 0.0038\n",
            "Epoch 17/100\n",
            "1198/1198 [==============================] - 5s 4ms/step - loss: 0.0035\n",
            "Epoch 18/100\n",
            "1198/1198 [==============================] - 5s 4ms/step - loss: 0.0037\n",
            "Epoch 19/100\n",
            "1198/1198 [==============================] - 5s 4ms/step - loss: 0.0033\n",
            "Epoch 20/100\n",
            "1198/1198 [==============================] - 5s 4ms/step - loss: 0.0034\n",
            "Epoch 21/100\n",
            "1198/1198 [==============================] - 5s 4ms/step - loss: 0.0031\n",
            "Epoch 22/100\n",
            "1198/1198 [==============================] - 5s 4ms/step - loss: 0.0033\n",
            "Epoch 23/100\n",
            "1198/1198 [==============================] - 5s 4ms/step - loss: 0.0035\n",
            "Epoch 24/100\n",
            "1198/1198 [==============================] - 5s 4ms/step - loss: 0.0034\n",
            "Epoch 25/100\n",
            "1198/1198 [==============================] - 5s 4ms/step - loss: 0.0031\n",
            "Epoch 26/100\n",
            "1198/1198 [==============================] - 5s 4ms/step - loss: 0.0032\n",
            "Epoch 27/100\n",
            "1198/1198 [==============================] - 5s 4ms/step - loss: 0.0030\n",
            "Epoch 28/100\n",
            "1198/1198 [==============================] - 5s 4ms/step - loss: 0.0030\n",
            "Epoch 29/100\n",
            "1198/1198 [==============================] - 5s 4ms/step - loss: 0.0030\n",
            "Epoch 30/100\n",
            "1198/1198 [==============================] - 5s 4ms/step - loss: 0.0031\n",
            "Epoch 31/100\n",
            "1198/1198 [==============================] - 5s 4ms/step - loss: 0.0031\n",
            "Epoch 32/100\n",
            "1198/1198 [==============================] - 5s 4ms/step - loss: 0.0028\n",
            "Epoch 33/100\n",
            "1198/1198 [==============================] - 5s 4ms/step - loss: 0.0027\n",
            "Epoch 34/100\n",
            "1198/1198 [==============================] - 5s 4ms/step - loss: 0.0028\n",
            "Epoch 35/100\n",
            "1198/1198 [==============================] - 5s 4ms/step - loss: 0.0027\n",
            "Epoch 36/100\n",
            "1198/1198 [==============================] - 5s 4ms/step - loss: 0.0029\n",
            "Epoch 37/100\n",
            "1198/1198 [==============================] - 5s 4ms/step - loss: 0.0032\n",
            "Epoch 38/100\n",
            "1198/1198 [==============================] - 5s 4ms/step - loss: 0.0026\n",
            "Epoch 39/100\n",
            "1198/1198 [==============================] - 5s 4ms/step - loss: 0.0026\n",
            "Epoch 40/100\n",
            "1198/1198 [==============================] - 5s 4ms/step - loss: 0.0026\n",
            "Epoch 41/100\n",
            "1198/1198 [==============================] - 5s 4ms/step - loss: 0.0030\n",
            "Epoch 42/100\n",
            "1198/1198 [==============================] - 5s 4ms/step - loss: 0.0030\n",
            "Epoch 43/100\n",
            "1198/1198 [==============================] - 5s 4ms/step - loss: 0.0026\n",
            "Epoch 44/100\n",
            "1198/1198 [==============================] - 5s 4ms/step - loss: 0.0027\n",
            "Epoch 45/100\n",
            "1198/1198 [==============================] - 5s 4ms/step - loss: 0.0026\n",
            "Epoch 46/100\n",
            "1198/1198 [==============================] - 5s 4ms/step - loss: 0.0027\n",
            "Epoch 47/100\n",
            "1198/1198 [==============================] - 5s 4ms/step - loss: 0.0026\n",
            "Epoch 48/100\n",
            "1198/1198 [==============================] - 5s 4ms/step - loss: 0.0028\n",
            "Epoch 49/100\n",
            "1198/1198 [==============================] - 5s 4ms/step - loss: 0.0028\n",
            "Epoch 50/100\n",
            "1198/1198 [==============================] - 5s 4ms/step - loss: 0.0024\n",
            "Epoch 51/100\n",
            "1198/1198 [==============================] - 5s 4ms/step - loss: 0.0023\n",
            "Epoch 52/100\n",
            "1198/1198 [==============================] - 5s 4ms/step - loss: 0.0022\n",
            "Epoch 53/100\n",
            "1198/1198 [==============================] - 5s 4ms/step - loss: 0.0021\n",
            "Epoch 54/100\n",
            "1198/1198 [==============================] - 5s 4ms/step - loss: 0.0023\n",
            "Epoch 55/100\n",
            "1198/1198 [==============================] - 5s 4ms/step - loss: 0.0025\n",
            "Epoch 56/100\n",
            "1198/1198 [==============================] - 5s 4ms/step - loss: 0.0023\n",
            "Epoch 57/100\n",
            "1198/1198 [==============================] - 5s 4ms/step - loss: 0.0020\n",
            "Epoch 58/100\n",
            "1198/1198 [==============================] - 5s 4ms/step - loss: 0.0021\n",
            "Epoch 59/100\n",
            "1198/1198 [==============================] - 5s 4ms/step - loss: 0.0020\n",
            "Epoch 60/100\n",
            "1198/1198 [==============================] - 5s 4ms/step - loss: 0.0021\n",
            "Epoch 61/100\n",
            "1198/1198 [==============================] - 6s 5ms/step - loss: 0.0023\n",
            "Epoch 62/100\n",
            "1198/1198 [==============================] - 8s 7ms/step - loss: 0.0022\n",
            "Epoch 63/100\n",
            "1198/1198 [==============================] - 6s 5ms/step - loss: 0.0019\n",
            "Epoch 64/100\n",
            "1198/1198 [==============================] - 5s 4ms/step - loss: 0.0022\n",
            "Epoch 65/100\n",
            "1198/1198 [==============================] - 5s 4ms/step - loss: 0.0019\n",
            "Epoch 66/100\n",
            "1198/1198 [==============================] - 5s 4ms/step - loss: 0.0018\n",
            "Epoch 67/100\n",
            "1198/1198 [==============================] - 5s 4ms/step - loss: 0.0019\n",
            "Epoch 68/100\n",
            "1198/1198 [==============================] - 5s 4ms/step - loss: 0.0019\n",
            "Epoch 69/100\n",
            "1198/1198 [==============================] - 5s 4ms/step - loss: 0.0019\n",
            "Epoch 70/100\n",
            "1198/1198 [==============================] - 5s 4ms/step - loss: 0.0019\n",
            "Epoch 71/100\n",
            "1198/1198 [==============================] - 5s 4ms/step - loss: 0.0018\n",
            "Epoch 72/100\n",
            "1198/1198 [==============================] - 5s 4ms/step - loss: 0.0017\n",
            "Epoch 73/100\n",
            "1198/1198 [==============================] - 5s 4ms/step - loss: 0.0019\n",
            "Epoch 74/100\n",
            "1198/1198 [==============================] - 5s 5ms/step - loss: 0.0018\n",
            "Epoch 75/100\n",
            "1198/1198 [==============================] - 5s 4ms/step - loss: 0.0018\n",
            "Epoch 76/100\n",
            "1198/1198 [==============================] - 5s 4ms/step - loss: 0.0017\n",
            "Epoch 77/100\n",
            "1198/1198 [==============================] - 5s 4ms/step - loss: 0.0019\n",
            "Epoch 78/100\n",
            "1198/1198 [==============================] - 5s 4ms/step - loss: 0.0017\n",
            "Epoch 79/100\n",
            "1198/1198 [==============================] - 5s 4ms/step - loss: 0.0020\n",
            "Epoch 80/100\n",
            "1198/1198 [==============================] - 5s 4ms/step - loss: 0.0017\n",
            "Epoch 81/100\n",
            "1198/1198 [==============================] - 5s 4ms/step - loss: 0.0016\n",
            "Epoch 82/100\n",
            "1198/1198 [==============================] - 5s 4ms/step - loss: 0.0016\n",
            "Epoch 83/100\n",
            "1198/1198 [==============================] - 5s 4ms/step - loss: 0.0018\n",
            "Epoch 84/100\n",
            "1198/1198 [==============================] - 5s 4ms/step - loss: 0.0019\n",
            "Epoch 85/100\n",
            "1198/1198 [==============================] - 5s 4ms/step - loss: 0.0016\n",
            "Epoch 86/100\n",
            "1198/1198 [==============================] - 5s 4ms/step - loss: 0.0016\n",
            "Epoch 87/100\n",
            "1198/1198 [==============================] - 5s 4ms/step - loss: 0.0016\n",
            "Epoch 88/100\n",
            "1198/1198 [==============================] - 5s 4ms/step - loss: 0.0015\n",
            "Epoch 89/100\n",
            "1198/1198 [==============================] - 5s 4ms/step - loss: 0.0017\n",
            "Epoch 90/100\n",
            "1198/1198 [==============================] - 5s 4ms/step - loss: 0.0016\n",
            "Epoch 91/100\n",
            "1198/1198 [==============================] - 5s 4ms/step - loss: 0.0015\n",
            "Epoch 92/100\n",
            "1198/1198 [==============================] - 5s 4ms/step - loss: 0.0017\n",
            "Epoch 93/100\n",
            "1198/1198 [==============================] - 5s 4ms/step - loss: 0.0015\n",
            "Epoch 94/100\n",
            "1198/1198 [==============================] - 5s 4ms/step - loss: 0.0014\n",
            "Epoch 95/100\n",
            "1198/1198 [==============================] - 5s 4ms/step - loss: 0.0016\n",
            "Epoch 96/100\n",
            "1198/1198 [==============================] - 5s 4ms/step - loss: 0.0016\n",
            "Epoch 97/100\n",
            "1198/1198 [==============================] - 5s 4ms/step - loss: 0.0016\n",
            "Epoch 98/100\n",
            "1198/1198 [==============================] - 5s 4ms/step - loss: 0.0015\n",
            "Epoch 99/100\n",
            "1198/1198 [==============================] - 5s 4ms/step - loss: 0.0014\n",
            "Epoch 100/100\n",
            "1198/1198 [==============================] - 5s 4ms/step - loss: 0.0015\n"
          ],
          "name": "stdout"
        },
        {
          "output_type": "execute_result",
          "data": {
            "text/plain": [
              "<keras.callbacks.callbacks.History at 0x7ff5277cecc0>"
            ]
          },
          "metadata": {
            "tags": []
          },
          "execution_count": 26
        }
      ]
    },
    {
      "cell_type": "code",
      "metadata": {
        "id": "HH5v6YjWdkyx",
        "colab_type": "code",
        "colab": {}
      },
      "source": [
        "#getting the real stock price\n",
        "dataset_test = pd.read_csv('/content/Google_Stock_Price_Test.csv')\n",
        "real_stock_price = dataset_test.iloc[:, 1:2].values"
      ],
      "execution_count": 0,
      "outputs": []
    },
    {
      "cell_type": "code",
      "metadata": {
        "id": "HXCcXF8hfVF5",
        "colab_type": "code",
        "colab": {}
      },
      "source": [
        "#getting the predicted stock price\n",
        "dataset_total = pd.concat((dataset_train['Open'],dataset_test['Open']),axis = 0)\n",
        "inputs = dataset_total[len(dataset_total)- len(dataset_test) -60:].values\n",
        "inputs = inputs.reshape(-1,1)\n",
        "inputs = sc.transform(inputs)"
      ],
      "execution_count": 0,
      "outputs": []
    },
    {
      "cell_type": "code",
      "metadata": {
        "id": "cgOWrI6StCrH",
        "colab_type": "code",
        "colab": {}
      },
      "source": [
        "x_test = []\n",
        "for i in range(60,80):\n",
        "  x_test.append(inputs[i-60:i, 0])\n",
        " # y_train.append(scaled_training_set[i, 0])\n",
        "  \n",
        "x_test = np.array(x_test)"
      ],
      "execution_count": 0,
      "outputs": []
    },
    {
      "cell_type": "code",
      "metadata": {
        "id": "yZIUGAazuZph",
        "colab_type": "code",
        "colab": {}
      },
      "source": [
        "#reshaping \n",
        "x_test = np.reshape(x_test,(x_test.shape[0],x_test.shape[1],1))"
      ],
      "execution_count": 0,
      "outputs": []
    },
    {
      "cell_type": "code",
      "metadata": {
        "id": "ynenmE-5uoiU",
        "colab_type": "code",
        "colab": {}
      },
      "source": [
        "# prediction \n",
        "predicted_stock_price =  regressor.predict(x_test)"
      ],
      "execution_count": 0,
      "outputs": []
    },
    {
      "cell_type": "code",
      "metadata": {
        "id": "EGsy9r2-uz0L",
        "colab_type": "code",
        "colab": {}
      },
      "source": [
        "#inverse scaling of prediction\n",
        "predicted_stock_price = sc.inverse_transform(predicted_stock_price)"
      ],
      "execution_count": 0,
      "outputs": []
    },
    {
      "cell_type": "code",
      "metadata": {
        "id": "jHHPLPCZvEP1",
        "colab_type": "code",
        "colab": {
          "base_uri": "https://localhost:8080/",
          "height": 294
        },
        "outputId": "e1443b35-a69b-4c3a-b0a5-61e1a0c02f48"
      },
      "source": [
        "#visualising the result\n",
        "plt.plot(real_stock_price,color = 'red',label = 'real stock price')\n",
        "plt.plot(predicted_stock_price,color = 'blue',label = 'predicted stock price')\n",
        "plt.title('Google stock price prediction')\n",
        "plt.xlabel('Time')\n",
        "plt.ylabel('google stock price')\n",
        "plt.legend()\n",
        "plt.show()"
      ],
      "execution_count": 33,
      "outputs": [
        {
          "output_type": "display_data",
          "data": {
            "image/png": "[encoded data removed]",
            "text/plain": [
              "<Figure size 432x288 with 1 Axes>"
            ]
          },
          "metadata": {
            "tags": [],
            "needs_background": "light"
          }
        }
      ]
    },
    {
      "cell_type": "code",
      "metadata": {
        "id": "Ug3yBrNnwNoB",
        "colab_type": "code",
        "colab": {}
      },
      "source": [
        ""
      ],
      "execution_count": 0,
      "outputs": []
    }
  ]
}