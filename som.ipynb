{
  "nbformat": 4,
  "nbformat_minor": 0,
  "metadata": {
    "colab": {
      "name": "som.ipynb",
      "provenance": [],
      "authorship_tag": "ABX9TyNOFkm6IqnxnAShAf+vNbOv",
      "include_colab_link": true
    },
    "kernelspec": {
      "name": "python3",
      "display_name": "Python 3"
    }
  },
  "cells": [
    {
      "cell_type": "markdown",
      "metadata": {
        "id": "view-in-github",
        "colab_type": "text"
      },
      "source": [
        "<a href=\"https://colab.research.google.com/github/Abhishek1236/deep-learning-model/blob/master/som.ipynb\" target=\"_parent\"><img src=\"https://colab.research.google.com/assets/colab-badge.svg\" alt=\"Open In Colab\"/></a>"
      ]
    },
    {
      "cell_type": "code",
      "metadata": {
        "id": "HI-FyIC3kIHI",
        "colab_type": "code",
        "colab": {}
      },
      "source": [
        "#importing the libraries\n",
        "import pandas as pd \n",
        "import numpy as np\n",
        "import matplotlib.pyplot as plt"
      ],
      "execution_count": 0,
      "outputs": []
    },
    {
      "cell_type": "code",
      "metadata": {
        "id": "yCA8DJ9zpLmF",
        "colab_type": "code",
        "colab": {}
      },
      "source": [
        "#importing the dataset\n",
        "dataset = pd.read_csv('/content/Credit_Card_Applications.csv')"
      ],
      "execution_count": 0,
      "outputs": []
    },
    {
      "cell_type": "code",
      "metadata": {
        "id": "N4JbW1wKpgli",
        "colab_type": "code",
        "colab": {
          "base_uri": "https://localhost:8080/",
          "height": 197
        },
        "outputId": "43a92ade-69b2-4fef-f187-33e2a088df6a"
      },
      "source": [
        "dataset.head()"
      ],
      "execution_count": 3,
      "outputs": [
        {
          "output_type": "execute_result",
          "data": {
            "text/html": [
              "<div>\n",
              "<style scoped>\n",
              "    .dataframe tbody tr th:only-of-type {\n",
              "        vertical-align: middle;\n",
              "    }\n",
              "\n",
              "    .dataframe tbody tr th {\n",
              "        vertical-align: top;\n",
              "    }\n",
              "\n",
              "    .dataframe thead th {\n",
              "        text-align: right;\n",
              "    }\n",
              "</style>\n",
              "<table border=\"1\" class=\"dataframe\">\n",
              "  <thead>\n",
              "    <tr style=\"text-align: right;\">\n",
              "      <th></th>\n",
              "      <th>CustomerID</th>\n",
              "      <th>A1</th>\n",
              "      <th>A2</th>\n",
              "      <th>A3</th>\n",
              "      <th>A4</th>\n",
              "      <th>A5</th>\n",
              "      <th>A6</th>\n",
              "      <th>A7</th>\n",
              "      <th>A8</th>\n",
              "      <th>A9</th>\n",
              "      <th>A10</th>\n",
              "      <th>A11</th>\n",
              "      <th>A12</th>\n",
              "      <th>A13</th>\n",
              "      <th>A14</th>\n",
              "      <th>Class</th>\n",
              "    </tr>\n",
              "  </thead>\n",
              "  <tbody>\n",
              "    <tr>\n",
              "      <th>0</th>\n",
              "      <td>15776156</td>\n",
              "      <td>1</td>\n",
              "      <td>22.08</td>\n",
              "      <td>11.46</td>\n",
              "      <td>2</td>\n",
              "      <td>4</td>\n",
              "      <td>4</td>\n",
              "      <td>1.585</td>\n",
              "      <td>0</td>\n",
              "      <td>0</td>\n",
              "      <td>0</td>\n",
              "      <td>1</td>\n",
              "      <td>2</td>\n",
              "      <td>100</td>\n",
              "      <td>1213</td>\n",
              "      <td>0</td>\n",
              "    </tr>\n",
              "    <tr>\n",
              "      <th>1</th>\n",
              "      <td>15739548</td>\n",
              "      <td>0</td>\n",
              "      <td>22.67</td>\n",
              "      <td>7.00</td>\n",
              "      <td>2</td>\n",
              "      <td>8</td>\n",
              "      <td>4</td>\n",
              "      <td>0.165</td>\n",
              "      <td>0</td>\n",
              "      <td>0</td>\n",
              "      <td>0</td>\n",
              "      <td>0</td>\n",
              "      <td>2</td>\n",
              "      <td>160</td>\n",
              "      <td>1</td>\n",
              "      <td>0</td>\n",
              "    </tr>\n",
              "    <tr>\n",
              "      <th>2</th>\n",
              "      <td>15662854</td>\n",
              "      <td>0</td>\n",
              "      <td>29.58</td>\n",
              "      <td>1.75</td>\n",
              "      <td>1</td>\n",
              "      <td>4</td>\n",
              "      <td>4</td>\n",
              "      <td>1.250</td>\n",
              "      <td>0</td>\n",
              "      <td>0</td>\n",
              "      <td>0</td>\n",
              "      <td>1</td>\n",
              "      <td>2</td>\n",
              "      <td>280</td>\n",
              "      <td>1</td>\n",
              "      <td>0</td>\n",
              "    </tr>\n",
              "    <tr>\n",
              "      <th>3</th>\n",
              "      <td>15687688</td>\n",
              "      <td>0</td>\n",
              "      <td>21.67</td>\n",
              "      <td>11.50</td>\n",
              "      <td>1</td>\n",
              "      <td>5</td>\n",
              "      <td>3</td>\n",
              "      <td>0.000</td>\n",
              "      <td>1</td>\n",
              "      <td>1</td>\n",
              "      <td>11</td>\n",
              "      <td>1</td>\n",
              "      <td>2</td>\n",
              "      <td>0</td>\n",
              "      <td>1</td>\n",
              "      <td>1</td>\n",
              "    </tr>\n",
              "    <tr>\n",
              "      <th>4</th>\n",
              "      <td>15715750</td>\n",
              "      <td>1</td>\n",
              "      <td>20.17</td>\n",
              "      <td>8.17</td>\n",
              "      <td>2</td>\n",
              "      <td>6</td>\n",
              "      <td>4</td>\n",
              "      <td>1.960</td>\n",
              "      <td>1</td>\n",
              "      <td>1</td>\n",
              "      <td>14</td>\n",
              "      <td>0</td>\n",
              "      <td>2</td>\n",
              "      <td>60</td>\n",
              "      <td>159</td>\n",
              "      <td>1</td>\n",
              "    </tr>\n",
              "  </tbody>\n",
              "</table>\n",
              "</div>"
            ],
            "text/plain": [
              "   CustomerID  A1     A2     A3  A4  A5  ...  A10  A11  A12  A13   A14  Class\n",
              "0    15776156   1  22.08  11.46   2   4  ...    0    1    2  100  1213      0\n",
              "1    15739548   0  22.67   7.00   2   8  ...    0    0    2  160     1      0\n",
              "2    15662854   0  29.58   1.75   1   4  ...    0    1    2  280     1      0\n",
              "3    15687688   0  21.67  11.50   1   5  ...   11    1    2    0     1      1\n",
              "4    15715750   1  20.17   8.17   2   6  ...   14    0    2   60   159      1\n",
              "\n",
              "[5 rows x 16 columns]"
            ]
          },
          "metadata": {
            "tags": []
          },
          "execution_count": 3
        }
      ]
    },
    {
      "cell_type": "code",
      "metadata": {
        "id": "KcCVvoFXr1Mb",
        "colab_type": "code",
        "colab": {}
      },
      "source": [
        "x = dataset.iloc[:,:-1].values\n",
        "y = dataset.iloc[:,-1].values"
      ],
      "execution_count": 0,
      "outputs": []
    },
    {
      "cell_type": "code",
      "metadata": {
        "id": "iS2LXckes2T0",
        "colab_type": "code",
        "colab": {}
      },
      "source": [
        "#feature scaling \n",
        "from sklearn.preprocessing import MinMaxScaler\n",
        "sc = MinMaxScaler(feature_range= (0,1))\n",
        "x = sc.fit_transform(x)"
      ],
      "execution_count": 0,
      "outputs": []
    },
    {
      "cell_type": "code",
      "metadata": {
        "id": "eFs9D2aWt2Zu",
        "colab_type": "code",
        "colab": {}
      },
      "source": [
        "from minisom import MiniSom"
      ],
      "execution_count": 0,
      "outputs": []
    },
    {
      "cell_type": "code",
      "metadata": {
        "id": "uMNu7j6atTY5",
        "colab_type": "code",
        "colab": {}
      },
      "source": [
        "#Training the Som\n",
        "som = MiniSom(x = 10,y = 10,input_len =15,sigma = 1.0,learning_rate = 0.5)"
      ],
      "execution_count": 0,
      "outputs": []
    },
    {
      "cell_type": "code",
      "metadata": {
        "id": "91J48nBGuprX",
        "colab_type": "code",
        "colab": {}
      },
      "source": [
        "#initializing the weights\n",
        "som.random_weights_init(x)\n",
        "som.train_random(x,num_iteration=100)"
      ],
      "execution_count": 0,
      "outputs": []
    },
    {
      "cell_type": "code",
      "metadata": {
        "id": "bML6OCkhvDPe",
        "colab_type": "code",
        "colab": {}
      },
      "source": [
        "#visualizing the reault\n",
        "from pylab import bone, pcolor,colorbar,plot,show"
      ],
      "execution_count": 0,
      "outputs": []
    },
    {
      "cell_type": "code",
      "metadata": {
        "id": "zb3DtzXk2wet",
        "colab_type": "code",
        "colab": {
          "base_uri": "https://localhost:8080/",
          "height": 34
        },
        "outputId": "a58bdcf9-8fae-49a2-a138-cbc57368e35f"
      },
      "source": [
        "x.shape"
      ],
      "execution_count": 28,
      "outputs": [
        {
          "output_type": "execute_result",
          "data": {
            "text/plain": [
              "()"
            ]
          },
          "metadata": {
            "tags": []
          },
          "execution_count": 28
        }
      ]
    },
    {
      "cell_type": "code",
      "metadata": {
        "id": "TQxBkSGCxroQ",
        "colab_type": "code",
        "colab": {
          "base_uri": "https://localhost:8080/",
          "height": 268
        },
        "outputId": "d391c270-db7b-4cb9-df42-57071a031e35"
      },
      "source": [
        "bone()\n",
        "pcolor(som.distance_map().T)\n",
        "colorbar()\n",
        "markers = ['o','s']\n",
        "colors = ['r','g']\n",
        "for i, x in enumerate(x):\n",
        "  w = som.winner(x)\n",
        "  plot(w[0]+0.5,\n",
        "       w[1]+0.5,\n",
        "       markers[y[i]],\n",
        "       markeredgecolor = colors[y[i]],\n",
        "       markerfacecolor = 'None',\n",
        "       markersize = 10,\n",
        "       markeredgewidth = 2)\n",
        "show() "
      ],
      "execution_count": 50,
      "outputs": [
        {
          "output_type": "display_data",
          "data": {
            "image/png": "[encoded data removed]",
            "text/plain": [
              "<Figure size 432x288 with 2 Axes>"
            ]
          },
          "metadata": {
            "tags": [],
            "needs_background": "light"
          }
        }
      ]
    },
    {
      "cell_type": "code",
      "metadata": {
        "id": "R6DmpwDexu23",
        "colab_type": "code",
        "colab": {}
      },
      "source": [
        "#finding the frauds \n",
        "mapping = som.win_map(x)"
      ],
      "execution_count": 0,
      "outputs": []
    },
    {
      "cell_type": "code",
      "metadata": {
        "id": "qufuE7ET5FwG",
        "colab_type": "code",
        "colab": {
          "base_uri": "https://localhost:8080/",
          "height": 1000
        },
        "outputId": "c8d691a2-f05c-4921-d48d-70dc1b9f6771"
      },
      "source": [
        "frauds = np.concatenate((mapping[(6,1)] ,mapping[(7,1)]),axis = 0)\n",
        "frauds"
      ],
      "execution_count": 51,
      "outputs": [
        {
          "output_type": "execute_result",
          "data": {
            "text/plain": [
              "array([[6.17573450e-01, 0.00000000e+00, 3.22105263e-01, 1.33928571e-01,\n",
              "        5.00000000e-01, 0.00000000e+00, 0.00000000e+00, 0.00000000e+00,\n",
              "        0.00000000e+00, 1.00000000e+00, 8.95522388e-02, 0.00000000e+00,\n",
              "        5.00000000e-01, 0.00000000e+00, 2.00000000e-03],\n",
              "       [7.82624365e-01, 0.00000000e+00, 4.13533835e-02, 4.46428571e-02,\n",
              "        5.00000000e-01, 7.69230769e-01, 3.75000000e-01, 8.77192982e-03,\n",
              "        0.00000000e+00, 1.00000000e+00, 1.49253731e-02, 0.00000000e+00,\n",
              "        5.00000000e-01, 5.40000000e-02, 9.80000000e-04],\n",
              "       [5.84745865e-01, 0.00000000e+00, 1.39097744e-01, 6.55357143e-02,\n",
              "        5.00000000e-01, 3.07692308e-01, 2.50000000e-01, 0.00000000e+00,\n",
              "        0.00000000e+00, 1.00000000e+00, 1.49253731e-02, 0.00000000e+00,\n",
              "        5.00000000e-01, 1.00000000e-01, 5.30000000e-04],\n",
              "       [7.84926861e-01, 0.00000000e+00, 3.50375940e-02, 1.19642857e-02,\n",
              "        5.00000000e-01, 0.00000000e+00, 0.00000000e+00, 0.00000000e+00,\n",
              "        0.00000000e+00, 1.00000000e+00, 1.49253731e-02, 0.00000000e+00,\n",
              "        5.00000000e-01, 8.00000000e-02, 1.26000000e-03],\n",
              "       [8.22015064e-01, 0.00000000e+00, 3.99699248e-01, 2.90178571e-01,\n",
              "        0.00000000e+00, 2.30769231e-01, 3.75000000e-01, 5.78947368e-03,\n",
              "        0.00000000e+00, 1.00000000e+00, 2.98507463e-02, 0.00000000e+00,\n",
              "        5.00000000e-01, 9.20000000e-02, 1.80000000e-04],\n",
              "       [4.02244033e-01, 0.00000000e+00, 9.51879699e-02, 4.46428571e-03,\n",
              "        5.00000000e-01, 7.69230769e-01, 3.75000000e-01, 3.50877193e-02,\n",
              "        0.00000000e+00, 1.00000000e+00, 1.49253731e-02, 0.00000000e+00,\n",
              "        5.00000000e-01, 1.20000000e-01, 7.68000000e-03],\n",
              "       [6.83480893e-01, 0.00000000e+00, 3.43308271e-01, 1.03571429e-02,\n",
              "        5.00000000e-01, 0.00000000e+00, 0.00000000e+00, 0.00000000e+00,\n",
              "        0.00000000e+00, 1.00000000e+00, 1.49253731e-01, 0.00000000e+00,\n",
              "        5.00000000e-01, 1.00000000e-01, 1.80000000e-04],\n",
              "       [8.04952569e-01, 0.00000000e+00, 2.01804511e-01, 4.46428571e-02,\n",
              "        5.00000000e-01, 0.00000000e+00, 0.00000000e+00, 0.00000000e+00,\n",
              "        0.00000000e+00, 1.00000000e+00, 1.49253731e-02, 0.00000000e+00,\n",
              "        5.00000000e-01, 4.60000000e-02, 3.00000000e-03],\n",
              "       [4.09323707e-01, 0.00000000e+00, 6.59097744e-01, 7.14285714e-02,\n",
              "        5.00000000e-01, 0.00000000e+00, 0.00000000e+00, 2.28070175e-01,\n",
              "        0.00000000e+00, 1.00000000e+00, 1.49253731e-02, 0.00000000e+00,\n",
              "        5.00000000e-01, 0.00000000e+00, 1.00000000e-04],\n",
              "       [3.97923349e-01, 0.00000000e+00, 6.76691729e-02, 3.57142857e-01,\n",
              "        5.00000000e-01, 6.15384615e-01, 3.75000000e-01, 3.50877193e-02,\n",
              "        0.00000000e+00, 1.00000000e+00, 1.49253731e-02, 0.00000000e+00,\n",
              "        5.00000000e-01, 6.00000000e-02, 1.00000000e-05],\n",
              "       [8.07074869e-01, 1.00000000e+00, 9.18496241e-01, 6.78571429e-01,\n",
              "        0.00000000e+00, 0.00000000e+00, 0.00000000e+00, 1.40350877e-03,\n",
              "        0.00000000e+00, 1.00000000e+00, 2.98507463e-02, 0.00000000e+00,\n",
              "        5.00000000e-01, 0.00000000e+00, 3.51000000e-03],\n",
              "       [7.85411386e-01, 1.00000000e+00, 2.63157895e-01, 1.01250000e-01,\n",
              "        5.00000000e-01, 0.00000000e+00, 0.00000000e+00, 0.00000000e+00,\n",
              "        0.00000000e+00, 1.00000000e+00, 7.46268657e-02, 0.00000000e+00,\n",
              "        5.00000000e-01, 8.80000000e-02, 1.46000000e-03],\n",
              "       [9.98386251e-01, 1.00000000e+00, 7.89473684e-02, 0.00000000e+00,\n",
              "        0.00000000e+00, 0.00000000e+00, 0.00000000e+00, 0.00000000e+00,\n",
              "        0.00000000e+00, 1.00000000e+00, 5.97014925e-02, 0.00000000e+00,\n",
              "        5.00000000e-01, 2.25000000e-02, 1.00000000e-05],\n",
              "       [8.91878797e-01, 1.00000000e+00, 8.76691729e-02, 2.08928571e-02,\n",
              "        5.00000000e-01, 0.00000000e+00, 0.00000000e+00, 0.00000000e+00,\n",
              "        0.00000000e+00, 1.00000000e+00, 4.47761194e-02, 0.00000000e+00,\n",
              "        5.00000000e-01, 1.75000000e-01, 7.69000000e-03],\n",
              "       [2.73216166e-01, 1.00000000e+00, 2.63157895e-01, 4.01785714e-02,\n",
              "        5.00000000e-01, 0.00000000e+00, 0.00000000e+00, 0.00000000e+00,\n",
              "        0.00000000e+00, 1.00000000e+00, 1.49253731e-02, 0.00000000e+00,\n",
              "        5.00000000e-01, 4.80000000e-02, 1.90000000e-04],\n",
              "       [9.42453620e-01, 1.00000000e+00, 3.88421053e-01, 1.78571429e-01,\n",
              "        5.00000000e-01, 0.00000000e+00, 0.00000000e+00, 0.00000000e+00,\n",
              "        0.00000000e+00, 1.00000000e+00, 2.98507463e-02, 0.00000000e+00,\n",
              "        5.00000000e-01, 8.50000000e-03, 1.00000000e-05],\n",
              "       [3.23710903e-02, 1.00000000e+00, 2.78195489e-01, 5.00000000e-01,\n",
              "        0.00000000e+00, 0.00000000e+00, 0.00000000e+00, 0.00000000e+00,\n",
              "        0.00000000e+00, 1.00000000e+00, 2.98507463e-02, 0.00000000e+00,\n",
              "        5.00000000e-01, 8.00000000e-02, 1.00000000e-05],\n",
              "       [3.26678119e-01, 1.00000000e+00, 8.33383459e-01, 3.21428571e-01,\n",
              "        5.00000000e-01, 0.00000000e+00, 0.00000000e+00, 1.40350877e-01,\n",
              "        0.00000000e+00, 1.00000000e+00, 1.49253731e-02, 0.00000000e+00,\n",
              "        5.00000000e-01, 3.50000000e-02, 6.00000000e-05],\n",
              "       [9.05901998e-01, 1.00000000e+00, 8.52631579e-02, 2.58928571e-01,\n",
              "        5.00000000e-01, 4.61538462e-01, 3.75000000e-01, 1.40350877e-03,\n",
              "        0.00000000e+00, 1.00000000e+00, 1.49253731e-02, 0.00000000e+00,\n",
              "        5.00000000e-01, 5.00000000e-02, 1.00000000e-05]])"
            ]
          },
          "metadata": {
            "tags": []
          },
          "execution_count": 51
        }
      ]
    },
    {
      "cell_type": "code",
      "metadata": {
        "id": "6Kv6CDCX5nVO",
        "colab_type": "code",
        "colab": {
          "base_uri": "https://localhost:8080/",
          "height": 1000
        },
        "outputId": "ef793424-ed33-441f-cbf9-3a3f0c227843"
      },
      "source": [
        "frauds = sc.inverse_transform(frauds)\n",
        "frauds"
      ],
      "execution_count": 52,
      "outputs": [
        {
          "output_type": "execute_result",
          "data": {
            "text/plain": [
              "array([[1.5719940e+07, 0.0000000e+00, 3.5170000e+01, 3.7500000e+00,\n",
              "        2.0000000e+00, 1.0000000e+00, 1.0000000e+00, 0.0000000e+00,\n",
              "        0.0000000e+00, 1.0000000e+00, 6.0000000e+00, 0.0000000e+00,\n",
              "        2.0000000e+00, 0.0000000e+00, 2.0100000e+02],\n",
              "       [1.5761158e+07, 0.0000000e+00, 1.6500000e+01, 1.2500000e+00,\n",
              "        2.0000000e+00, 1.1000000e+01, 4.0000000e+00, 2.5000000e-01,\n",
              "        0.0000000e+00, 1.0000000e+00, 1.0000000e+00, 0.0000000e+00,\n",
              "        2.0000000e+00, 1.0800000e+02, 9.9000000e+01],\n",
              "       [1.5711742e+07, 0.0000000e+00, 2.3000000e+01, 1.8350000e+00,\n",
              "        2.0000000e+00, 5.0000000e+00, 3.0000000e+00, 0.0000000e+00,\n",
              "        0.0000000e+00, 1.0000000e+00, 1.0000000e+00, 0.0000000e+00,\n",
              "        2.0000000e+00, 2.0000000e+02, 5.4000000e+01],\n",
              "       [1.5761733e+07, 0.0000000e+00, 1.6080000e+01, 3.3500000e-01,\n",
              "        2.0000000e+00, 1.0000000e+00, 1.0000000e+00, 0.0000000e+00,\n",
              "        0.0000000e+00, 1.0000000e+00, 1.0000000e+00, 0.0000000e+00,\n",
              "        2.0000000e+00, 1.6000000e+02, 1.2700000e+02],\n",
              "       [1.5770995e+07, 0.0000000e+00, 4.0330000e+01, 8.1250000e+00,\n",
              "        1.0000000e+00, 4.0000000e+00, 4.0000000e+00, 1.6500000e-01,\n",
              "        0.0000000e+00, 1.0000000e+00, 2.0000000e+00, 0.0000000e+00,\n",
              "        2.0000000e+00, 1.8400000e+02, 1.9000000e+01],\n",
              "       [1.5666166e+07, 0.0000000e+00, 2.0080000e+01, 1.2500000e-01,\n",
              "        2.0000000e+00, 1.1000000e+01, 4.0000000e+00, 1.0000000e+00,\n",
              "        0.0000000e+00, 1.0000000e+00, 1.0000000e+00, 0.0000000e+00,\n",
              "        2.0000000e+00, 2.4000000e+02, 7.6900000e+02],\n",
              "       [1.5736399e+07, 0.0000000e+00, 3.6580000e+01, 2.9000000e-01,\n",
              "        2.0000000e+00, 1.0000000e+00, 1.0000000e+00, 0.0000000e+00,\n",
              "        0.0000000e+00, 1.0000000e+00, 1.0000000e+01, 0.0000000e+00,\n",
              "        2.0000000e+00, 2.0000000e+02, 1.9000000e+01],\n",
              "       [1.5766734e+07, 0.0000000e+00, 2.7170000e+01, 1.2500000e+00,\n",
              "        2.0000000e+00, 1.0000000e+00, 1.0000000e+00, 0.0000000e+00,\n",
              "        0.0000000e+00, 1.0000000e+00, 1.0000000e+00, 0.0000000e+00,\n",
              "        2.0000000e+00, 9.2000000e+01, 3.0100000e+02],\n",
              "       [1.5667934e+07, 0.0000000e+00, 5.7580000e+01, 2.0000000e+00,\n",
              "        2.0000000e+00, 1.0000000e+00, 1.0000000e+00, 6.5000000e+00,\n",
              "        0.0000000e+00, 1.0000000e+00, 1.0000000e+00, 0.0000000e+00,\n",
              "        2.0000000e+00, 0.0000000e+00, 1.1000000e+01],\n",
              "       [1.5665087e+07, 0.0000000e+00, 1.8250000e+01, 1.0000000e+01,\n",
              "        2.0000000e+00, 9.0000000e+00, 4.0000000e+00, 1.0000000e+00,\n",
              "        0.0000000e+00, 1.0000000e+00, 1.0000000e+00, 0.0000000e+00,\n",
              "        2.0000000e+00, 1.2000000e+02, 2.0000000e+00],\n",
              "       [1.5767264e+07, 1.0000000e+00, 7.4830000e+01, 1.9000000e+01,\n",
              "        1.0000000e+00, 1.0000000e+00, 1.0000000e+00, 4.0000000e-02,\n",
              "        0.0000000e+00, 1.0000000e+00, 2.0000000e+00, 0.0000000e+00,\n",
              "        2.0000000e+00, 0.0000000e+00, 3.5200000e+02],\n",
              "       [1.5761854e+07, 1.0000000e+00, 3.1250000e+01, 2.8350000e+00,\n",
              "        2.0000000e+00, 1.0000000e+00, 1.0000000e+00, 0.0000000e+00,\n",
              "        0.0000000e+00, 1.0000000e+00, 5.0000000e+00, 0.0000000e+00,\n",
              "        2.0000000e+00, 1.7600000e+02, 1.4700000e+02],\n",
              "       [1.5815040e+07, 1.0000000e+00, 1.9000000e+01, 0.0000000e+00,\n",
              "        1.0000000e+00, 1.0000000e+00, 1.0000000e+00, 0.0000000e+00,\n",
              "        0.0000000e+00, 1.0000000e+00, 4.0000000e+00, 0.0000000e+00,\n",
              "        2.0000000e+00, 4.5000000e+01, 2.0000000e+00],\n",
              "       [1.5788442e+07, 1.0000000e+00, 1.9580000e+01, 5.8500000e-01,\n",
              "        2.0000000e+00, 1.0000000e+00, 1.0000000e+00, 0.0000000e+00,\n",
              "        0.0000000e+00, 1.0000000e+00, 3.0000000e+00, 0.0000000e+00,\n",
              "        2.0000000e+00, 3.5000000e+02, 7.7000000e+02],\n",
              "       [1.5633944e+07, 1.0000000e+00, 3.1250000e+01, 1.1250000e+00,\n",
              "        2.0000000e+00, 1.0000000e+00, 1.0000000e+00, 0.0000000e+00,\n",
              "        0.0000000e+00, 1.0000000e+00, 1.0000000e+00, 0.0000000e+00,\n",
              "        2.0000000e+00, 9.6000000e+01, 2.0000000e+01],\n",
              "       [1.5801072e+07, 1.0000000e+00, 3.9580000e+01, 5.0000000e+00,\n",
              "        2.0000000e+00, 1.0000000e+00, 1.0000000e+00, 0.0000000e+00,\n",
              "        0.0000000e+00, 1.0000000e+00, 2.0000000e+00, 0.0000000e+00,\n",
              "        2.0000000e+00, 1.7000000e+01, 2.0000000e+00],\n",
              "       [1.5573798e+07, 1.0000000e+00, 3.2250000e+01, 1.4000000e+01,\n",
              "        1.0000000e+00, 1.0000000e+00, 1.0000000e+00, 0.0000000e+00,\n",
              "        0.0000000e+00, 1.0000000e+00, 2.0000000e+00, 0.0000000e+00,\n",
              "        2.0000000e+00, 1.6000000e+02, 2.0000000e+00],\n",
              "       [1.5647295e+07, 1.0000000e+00, 6.9170000e+01, 9.0000000e+00,\n",
              "        2.0000000e+00, 1.0000000e+00, 1.0000000e+00, 4.0000000e+00,\n",
              "        0.0000000e+00, 1.0000000e+00, 1.0000000e+00, 0.0000000e+00,\n",
              "        2.0000000e+00, 7.0000000e+01, 7.0000000e+00],\n",
              "       [1.5791944e+07, 1.0000000e+00, 1.9420000e+01, 7.2500000e+00,\n",
              "        2.0000000e+00, 7.0000000e+00, 4.0000000e+00, 4.0000000e-02,\n",
              "        0.0000000e+00, 1.0000000e+00, 1.0000000e+00, 0.0000000e+00,\n",
              "        2.0000000e+00, 1.0000000e+02, 2.0000000e+00]])"
            ]
          },
          "metadata": {
            "tags": []
          },
          "execution_count": 52
        }
      ]
    },
    {
      "cell_type": "code",
      "metadata": {
        "id": "veGsIjse5ojq",
        "colab_type": "code",
        "colab": {}
      },
      "source": [
        ""
      ],
      "execution_count": 0,
      "outputs": []
    },
    {
      "cell_type": "code",
      "metadata": {
        "id": "LA2H_8A-6mp8",
        "colab_type": "code",
        "colab": {}
      },
      "source": [
        ""
      ],
      "execution_count": 0,
      "outputs": []
    }
  ]
}